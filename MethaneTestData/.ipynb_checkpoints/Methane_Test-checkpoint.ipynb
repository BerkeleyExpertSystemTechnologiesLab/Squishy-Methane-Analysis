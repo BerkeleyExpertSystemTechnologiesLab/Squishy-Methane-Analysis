{
 "cells": [
  {
   "cell_type": "code",
   "execution_count": null,
   "id": "549e299f",
   "metadata": {},
   "outputs": [],
   "source": [
    "import sys\n",
    "import argparse\n",
    "\n",
    "import cv2\n",
    "print(cv2.__version__)\n",
    "\n",
    "def extractImages(pathIn, pathOut):\n",
    "    count = 4541\n",
    "    vidcap = cv2.VideoCapture(pathIn)\n",
    "    success,image = vidcap.read()\n",
    "    success = True\n",
    "    if vidcap.isOpened():\n",
    "        while success:   # added this line \n",
    "            success,image = vidcap.read()\n",
    "            if success:\n",
    "                print ('Read a new frame: ', success)\n",
    "                cv2.imwrite( pathOut + \"/frame%d.jpg\" % count, image)     # save frame as JPEG file\n",
    "                count = count + 1\n",
    "            else:\n",
    "                break\n",
    "        vidcap.release()\n",
    "    cv2.destroyAllWindows()"
   ]
  },
  {
   "cell_type": "code",
   "execution_count": null,
   "id": "ae3abd45",
   "metadata": {},
   "outputs": [],
   "source": [
    "pathIn = \"./MOV_1240.mp4\"\n",
    "pathOut = \"./Desktop/Methane_Work/Data_images_1240\""
   ]
  },
  {
   "cell_type": "code",
   "execution_count": null,
   "id": "3d514ec8",
   "metadata": {},
   "outputs": [],
   "source": [
    "extractImages(pathIn, pathOut)"
   ]
  },
  {
   "cell_type": "code",
   "execution_count": null,
   "id": "1aa7a4f6",
   "metadata": {},
   "outputs": [],
   "source": [
    "import cv2\n",
    "vidcap = cv2.VideoCapture('MOV_1240.mp4')\n",
    "success,image = vidcap.read()\n",
    "count = 4542\n",
    "while count <= 6068:\n",
    "    cv2.imwrite(\"frame%d.jpg\" % count, image)     # save frame as JPEG file      \n",
    "    success,image = vidcap.read()\n",
    "    print('Read a new frame: ', success)\n",
    "    count += 1"
   ]
  },
  {
   "cell_type": "code",
   "execution_count": null,
   "id": "17a10b75",
   "metadata": {},
   "outputs": [],
   "source": [
    "import cv2\n",
    "vidcap = cv2.VideoCapture('MOV_1240.mp4')\n",
    "success,image = vidcap.read()\n",
    "count = 4542\n",
    "if vidcap.isOpened():\n",
    "    while success:\n",
    "        success,image = vidcap.read()\n",
    "        if success:\n",
    "            print('Read a new frame: ', success)\n",
    "            cv2.imwrite(\"frame%d.jpg\" % count, image)     # save frame as JPEG file      \n",
    "            count += 1\n",
    "        else:\n",
    "            break\n",
    "    vidcap.release()\n",
    "cv2.destroyAllWindows()\n"
   ]
  },
  {
   "cell_type": "code",
   "execution_count": null,
   "id": "0166645e",
   "metadata": {},
   "outputs": [],
   "source": [
    "import cv2\n",
    "import numpy as np\n",
    "\n",
    "\n",
    "vidcap = cv2.VideoCapture('MOV_1240.mp4')\n",
    "count = 4542\n",
    "success = True\n",
    "while success:   \n",
    "    success,image = vidcap.read()\n",
    "\n",
    "      ## Stop when last frame is identified\n",
    "    image_last = cv2.imread(\"frame{}.jpg\".format(count-1))\n",
    "    if np.array_equal(image,image_last):\n",
    "        break\n",
    "\n",
    "    cv2.imwrite(\"frame%d.jpg\" % count, image)     # save frame as PNG file\n",
    "    count += 1"
   ]
  },
  {
   "cell_type": "code",
   "execution_count": null,
   "id": "ad81c199",
   "metadata": {},
   "outputs": [],
   "source": [
    "extract_image_one_fps(pathIn)"
   ]
  },
  {
   "cell_type": "code",
   "execution_count": null,
   "id": "d5656877",
   "metadata": {},
   "outputs": [],
   "source": [
    "import sys\n",
    "import argparse\n",
    "\n",
    "import cv2\n",
    "print(cv2.__version__)\n",
    "\n",
    "def extractImages(pathIn, pathOut):\n",
    "    count = 4541\n",
    "    vidcap = cv2.VideoCapture(pathIn)\n",
    "    success,image = vidcap.read()\n",
    "    success = True\n",
    "    if vidcap.isOpened():\n",
    "        while success:\n",
    "               # added this line \n",
    "            success,image = vidcap.read()\n",
    "            if success:\n",
    "                print ('Read a new frame: ', success)\n",
    "                cv2.imwrite( pathOut + \"/frame%d.jpg\" % count, image)     # save frame as JPEG file\n",
    "                count = count + 1\n",
    "            else:\n",
    "                break\n",
    "        vidcap.release()\n",
    "    cv2.destroyAllWindows()"
   ]
  },
  {
   "cell_type": "code",
   "execution_count": null,
   "id": "2de6df85",
   "metadata": {},
   "outputs": [],
   "source": [
    "extractImages(pathIn, pathOut)"
   ]
  },
  {
   "cell_type": "code",
   "execution_count": null,
   "id": "1a9a71d9",
   "metadata": {},
   "outputs": [],
   "source": []
  }
 ],
 "metadata": {
  "kernelspec": {
   "display_name": "Python 3",
   "language": "python",
   "name": "python3"
  },
  "language_info": {
   "codemirror_mode": {
    "name": "ipython",
    "version": 3
   },
   "file_extension": ".py",
   "mimetype": "text/x-python",
   "name": "python",
   "nbconvert_exporter": "python",
   "pygments_lexer": "ipython3",
   "version": "3.8.8"
  }
 },
 "nbformat": 4,
 "nbformat_minor": 5
}
