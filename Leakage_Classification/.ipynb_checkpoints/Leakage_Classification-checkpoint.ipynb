{
 "cells": [
  {
   "cell_type": "markdown",
   "metadata": {
    "id": "NWLSOeb2XgXQ"
   },
   "source": [
    "# Methane Team: Classification of Methane Leak and Nonleak\n",
    "Team Members: Lin Gan, Ian Chen, Jiang Qu\n",
    "\n"
   ]
  },
  {
   "cell_type": "markdown",
   "metadata": {
    "id": "qLdewhMGXJ-F"
   },
   "source": [
    "<h1>Connect to Your Google Drive</h1>"
   ]
  },
  {
   "cell_type": "code",
   "execution_count": null,
   "metadata": {
    "colab": {
     "base_uri": "https://localhost:8080/"
    },
    "executionInfo": {
     "elapsed": 25322,
     "status": "ok",
     "timestamp": 1670569596661,
     "user": {
      "displayName": "Jiang Qu",
      "userId": "09638320580755601104"
     },
     "user_tz": 480
    },
    "id": "nDgKYdwmdkfB",
    "outputId": "406b237c-5058-434a-8411-53f5474f4959"
   },
   "outputs": [
    {
     "name": "stdout",
     "output_type": "stream",
     "text": [
      "Mounted at /content/gdrive\n"
     ]
    }
   ],
   "source": [
    "import os\n",
    "from google.colab import drive\n",
    "drive.mount('/content/gdrive')"
   ]
  },
  {
   "cell_type": "markdown",
   "metadata": {
    "id": "13dayqaYYNsv"
   },
   "source": [
    "<h1>Import Library</h1>"
   ]
  },
  {
   "cell_type": "code",
   "execution_count": null,
   "metadata": {
    "id": "jWxfGdePYanb"
   },
   "outputs": [],
   "source": [
    "import os, shutil\n",
    "from keras import layers \n",
    "from keras import models \n",
    "from keras import optimizers \n",
    "from keras.preprocessing.image import ImageDataGenerator\n",
    "import matplotlib.pyplot as plt \n",
    "from keras.preprocessing import image \n",
    "from tensorflow.keras.utils import load_img\n",
    "from tensorflow.keras.utils import img_to_array\n",
    "from tensorflow.keras.utils import array_to_img\n",
    "from keras.models import load_model"
   ]
  },
  {
   "cell_type": "code",
   "execution_count": null,
   "metadata": {
    "id": "llpvdHFQjZcB"
   },
   "outputs": [],
   "source": [
    "\n",
    "original_dataset_dir = '/content/gdrive/MyDrive/Methane_Team/Data_images'\n",
    "base_dir = '/content/gdrive/MyDrive/Methane_Team/Leakage_Classification/newtrain'\n",
    "\n",
    "shutil.rmtree(base_dir, ignore_errors=True)\n",
    "os.mkdir(base_dir) \n",
    "train_dir = os.path.join(base_dir, 'train')\n",
    "os.mkdir(train_dir) \n",
    "validation_dir = os.path.join(base_dir, 'validation')\n",
    "os.mkdir(validation_dir) \n",
    "test_dir = os.path.join(base_dir, 'test') \n",
    "os.mkdir(test_dir) \n",
    "\n",
    "train_leaks_dir = os.path.join(train_dir, 'leaks')\n",
    "os.mkdir(train_leaks_dir) \n",
    "\n",
    "train_nonleaks_dir = os.path.join(train_dir, 'nonleaks') \n",
    "os.mkdir(train_nonleaks_dir) \n",
    "\n",
    "\n",
    "validation_leaks_dir = os.path.join(validation_dir, 'leaks') \n",
    "os.mkdir(validation_leaks_dir) \n",
    "validation_nonleaks_dir = os.path.join(validation_dir, 'nonleaks') \n",
    "os.mkdir(validation_nonleaks_dir) \n",
    "\n",
    "test_leaks_dir = os.path.join(test_dir, 'leaks') \n",
    "os.mkdir(test_leaks_dir) \n",
    "test_nonleaks_dir = os.path.join(test_dir, 'nonleaks') \n",
    "os.mkdir(test_nonleaks_dir) "
   ]
  },
  {
   "cell_type": "code",
   "execution_count": null,
   "metadata": {
    "id": "NnQnOizpTrN0"
   },
   "outputs": [],
   "source": [
    "\n",
    "fnames = ['leak.frame{}.jpg'.format(i) for i in range(19, 1535)] \n",
    "for fname in fnames:\n",
    "    src = os.path.join(original_dataset_dir, fname) \n",
    "    dst = os.path.join(train_leaks_dir, fname) \n",
    "    shutil.copyfile(src, dst) \n",
    "\n",
    "fnames = ['leak.frame{}.jpg'.format(i) for i in range(1540, 3018)] \n",
    "for fname in fnames:\n",
    "    src = os.path.join(original_dataset_dir, fname) \n",
    "    dst = os.path.join(validation_leaks_dir, fname) \n",
    "    shutil.copyfile(src, dst) \n",
    "\n",
    "fnames = ['leak.frame{}.jpg'.format(i) for i in range(3024, 4541)]\n",
    "for fname in fnames:\n",
    "    src = os.path.join(original_dataset_dir, fname)\n",
    "    dst = os.path.join(test_leaks_dir, fname) \n",
    "    shutil.copyfile(src, dst) \n",
    "\n",
    "\n",
    "fnames = ['nonleak.frame{}.jpg'.format(i) for i in range(0, 18)] \n",
    "for fname in fnames:\n",
    "    src = os.path.join(original_dataset_dir, fname) \n",
    "    dst = os.path.join(train_nonleaks_dir, fname) \n",
    "    shutil.copyfile(src, dst) \n",
    "\n",
    "fnames = ['nonleak.frame{}.jpg'.format(i) for i in range(1536, 1539)] \n",
    "for fname in fnames:\n",
    "    src = os.path.join(original_dataset_dir, fname) \n",
    "    dst = os.path.join(validation_nonleaks_dir, fname) \n",
    "    shutil.copyfile(src, dst) \n",
    "\n",
    "fnames = ['nonleak.frame{}.jpg'.format(i) for i in range(3019, 3023)]\n",
    "for fname in fnames:\n",
    "    src = os.path.join(original_dataset_dir, fname)\n",
    "    dst = os.path.join(test_nonleaks_dir, fname) \n",
    "    shutil.copyfile(src, dst) "
   ]
  },
  {
   "cell_type": "code",
   "execution_count": null,
   "metadata": {
    "colab": {
     "base_uri": "https://localhost:8080/"
    },
    "executionInfo": {
     "elapsed": 606,
     "status": "ok",
     "timestamp": 1670571571324,
     "user": {
      "displayName": "Jiang Qu",
      "userId": "09638320580755601104"
     },
     "user_tz": 480
    },
    "id": "srjtLcaZUtun",
    "outputId": "80dab985-2783-4c96-fef3-bb2542adbb68"
   },
   "outputs": [
    {
     "name": "stdout",
     "output_type": "stream",
     "text": [
      "Model: \"sequential_2\"\n",
      "_________________________________________________________________\n",
      " Layer (type)                Output Shape              Param #   \n",
      "=================================================================\n",
      " conv2d_8 (Conv2D)           (None, 148, 148, 32)      896       \n",
      "                                                                 \n",
      " max_pooling2d_8 (MaxPooling  (None, 74, 74, 32)       0         \n",
      " 2D)                                                             \n",
      "                                                                 \n",
      " conv2d_9 (Conv2D)           (None, 72, 72, 64)        18496     \n",
      "                                                                 \n",
      " max_pooling2d_9 (MaxPooling  (None, 36, 36, 64)       0         \n",
      " 2D)                                                             \n",
      "                                                                 \n",
      " conv2d_10 (Conv2D)          (None, 34, 34, 128)       73856     \n",
      "                                                                 \n",
      " max_pooling2d_10 (MaxPoolin  (None, 17, 17, 128)      0         \n",
      " g2D)                                                            \n",
      "                                                                 \n",
      " conv2d_11 (Conv2D)          (None, 15, 15, 128)       147584    \n",
      "                                                                 \n",
      " max_pooling2d_11 (MaxPoolin  (None, 7, 7, 128)        0         \n",
      " g2D)                                                            \n",
      "                                                                 \n",
      " flatten_2 (Flatten)         (None, 6272)              0         \n",
      "                                                                 \n",
      " dense_4 (Dense)             (None, 512)               3211776   \n",
      "                                                                 \n",
      " dense_5 (Dense)             (None, 1)                 513       \n",
      "                                                                 \n",
      "=================================================================\n",
      "Total params: 3,453,121\n",
      "Trainable params: 3,453,121\n",
      "Non-trainable params: 0\n",
      "_________________________________________________________________\n"
     ]
    }
   ],
   "source": [
    "\n",
    "model = models.Sequential() \n",
    "model.add(layers.Conv2D(32, (3, 3), activation='relu', input_shape=(150, 150, 3)))\n",
    "model.add(layers.MaxPooling2D((2, 2)))\n",
    "model.add(layers.Conv2D(64, (3, 3), activation='relu'))\n",
    "model.add(layers.MaxPooling2D((2, 2))) \n",
    "model.add(layers.Conv2D(128, (3, 3), activation='relu')) \n",
    "model.add(layers.MaxPooling2D((2, 2))) \n",
    "model.add(layers.Conv2D(128, (3, 3), activation='relu'))\n",
    "model.add(layers.MaxPooling2D((2, 2))) \n",
    "model.add(layers.Flatten()) \n",
    "model.add(layers.Dense(512, activation='relu')) \n",
    "model.add(layers.Dense(1, activation='sigmoid')) \n",
    "model.summary()"
   ]
  },
  {
   "cell_type": "code",
   "execution_count": null,
   "metadata": {
    "id": "iIrdlQAgUyRl"
   },
   "outputs": [],
   "source": [
    "model.compile(loss='binary_crossentropy', optimizer=optimizers.RMSprop(lr=1e-4), metrics=['acc'])"
   ]
  },
  {
   "cell_type": "code",
   "execution_count": null,
   "metadata": {
    "colab": {
     "base_uri": "https://localhost:8080/"
    },
    "executionInfo": {
     "elapsed": 204,
     "status": "ok",
     "timestamp": 1670571573966,
     "user": {
      "displayName": "Jiang Qu",
      "userId": "09638320580755601104"
     },
     "user_tz": 480
    },
    "id": "P6VeGC4FU2gc",
    "outputId": "ee70709e-917b-4f56-a638-952cb27c0c2e"
   },
   "outputs": [
    {
     "name": "stdout",
     "output_type": "stream",
     "text": [
      "Found 1534 images belonging to 2 classes.\n",
      "Found 1481 images belonging to 2 classes.\n"
     ]
    }
   ],
   "source": [
    "\n",
    "train_datagen = ImageDataGenerator(rescale=1. / 255)\n",
    "test_datagen = ImageDataGenerator(rescale=1. / 255) \n",
    "\n",
    "train_generator = train_datagen.flow_from_directory(\n",
    "    train_dir, \n",
    "    target_size=(150, 150), \n",
    "    batch_size=20, \n",
    "    class_mode='binary' \n",
    ")\n",
    "\n",
    "validation_generator = test_datagen.flow_from_directory(\n",
    "    validation_dir, \n",
    "    target_size=(150, 150), \n",
    "    batch_size=20, \n",
    "    class_mode='binary'\n",
    ")"
   ]
  },
  {
   "cell_type": "code",
   "execution_count": null,
   "metadata": {
    "colab": {
     "base_uri": "https://localhost:8080/"
    },
    "executionInfo": {
     "elapsed": 213215,
     "status": "ok",
     "timestamp": 1670571788793,
     "user": {
      "displayName": "Jiang Qu",
      "userId": "09638320580755601104"
     },
     "user_tz": 480
    },
    "id": "W0uwUSDTU4Dg",
    "outputId": "86872f66-7ece-4a7e-a5dc-56907027e17d"
   },
   "outputs": [
    {
     "name": "stderr",
     "output_type": "stream",
     "text": [
      "<ipython-input-23-66ee73033319>:1: UserWarning: `Model.fit_generator` is deprecated and will be removed in a future version. Please use `Model.fit`, which supports generators.\n",
      "  history = model.fit_generator(\n"
     ]
    },
    {
     "name": "stdout",
     "output_type": "stream",
     "text": [
      "Epoch 1/100\n",
      "1/1 [==============================] - 3s 3s/step - loss: 0.6975 - acc: 0.1500 - val_loss: 0.4871 - val_acc: 1.0000\n",
      "Epoch 2/100\n",
      "1/1 [==============================] - 2s 2s/step - loss: 0.4534 - acc: 1.0000 - val_loss: 0.3125 - val_acc: 1.0000\n",
      "Epoch 3/100\n",
      "1/1 [==============================] - 2s 2s/step - loss: 0.2746 - acc: 1.0000 - val_loss: 0.1724 - val_acc: 1.0000\n",
      "Epoch 4/100\n",
      "1/1 [==============================] - 2s 2s/step - loss: 0.2271 - acc: 0.9500 - val_loss: 0.1122 - val_acc: 1.0000\n",
      "Epoch 5/100\n",
      "1/1 [==============================] - 1s 1s/step - loss: 0.3157 - acc: 0.9000 - val_loss: 0.1213 - val_acc: 1.0000\n",
      "Epoch 6/100\n",
      "1/1 [==============================] - 1s 1s/step - loss: 0.0953 - acc: 1.0000 - val_loss: 0.0606 - val_acc: 1.0000\n",
      "Epoch 7/100\n",
      "1/1 [==============================] - 2s 2s/step - loss: 0.1910 - acc: 0.9500 - val_loss: 0.0640 - val_acc: 1.0000\n",
      "Epoch 8/100\n",
      "1/1 [==============================] - 2s 2s/step - loss: 0.0455 - acc: 1.0000 - val_loss: 0.0364 - val_acc: 1.0000\n",
      "Epoch 9/100\n",
      "1/1 [==============================] - 2s 2s/step - loss: 0.0258 - acc: 1.0000 - val_loss: 0.0258 - val_acc: 1.0000\n",
      "Epoch 10/100\n",
      "1/1 [==============================] - 2s 2s/step - loss: 0.0161 - acc: 1.0000 - val_loss: 0.0171 - val_acc: 1.0000\n",
      "Epoch 11/100\n",
      "1/1 [==============================] - 2s 2s/step - loss: 0.0114 - acc: 1.0000 - val_loss: 0.0133 - val_acc: 1.0000\n",
      "Epoch 12/100\n",
      "1/1 [==============================] - 2s 2s/step - loss: 0.0085 - acc: 1.0000 - val_loss: 0.0099 - val_acc: 1.0000\n",
      "Epoch 13/100\n",
      "1/1 [==============================] - 2s 2s/step - loss: 0.0063 - acc: 1.0000 - val_loss: 0.0076 - val_acc: 1.0000\n",
      "Epoch 14/100\n",
      "1/1 [==============================] - 1s 1s/step - loss: 0.0047 - acc: 1.0000 - val_loss: 0.2533 - val_acc: 0.9500\n",
      "Epoch 15/100\n",
      "1/1 [==============================] - 1s 1s/step - loss: 0.2637 - acc: 0.9500 - val_loss: 0.2062 - val_acc: 0.9500\n",
      "Epoch 16/100\n",
      "1/1 [==============================] - 2s 2s/step - loss: 0.2083 - acc: 0.9500 - val_loss: 0.0437 - val_acc: 1.0000\n",
      "Epoch 17/100\n",
      "1/1 [==============================] - 4s 4s/step - loss: 0.0312 - acc: 1.0000 - val_loss: 0.0250 - val_acc: 1.0000\n",
      "Epoch 18/100\n",
      "1/1 [==============================] - 5s 5s/step - loss: 0.0182 - acc: 1.0000 - val_loss: 0.0172 - val_acc: 1.0000\n",
      "Epoch 19/100\n",
      "1/1 [==============================] - 3s 3s/step - loss: 0.0116 - acc: 1.0000 - val_loss: 0.0127 - val_acc: 1.0000\n",
      "Epoch 20/100\n",
      "1/1 [==============================] - 3s 3s/step - loss: 0.0082 - acc: 1.0000 - val_loss: 0.0097 - val_acc: 1.0000\n",
      "Epoch 21/100\n",
      "1/1 [==============================] - 2s 2s/step - loss: 0.0059 - acc: 1.0000 - val_loss: 0.0077 - val_acc: 1.0000\n",
      "Epoch 22/100\n",
      "1/1 [==============================] - 3s 3s/step - loss: 0.0050 - acc: 1.0000 - val_loss: 0.0065 - val_acc: 1.0000\n",
      "Epoch 23/100\n",
      "1/1 [==============================] - 3s 3s/step - loss: 0.2640 - acc: 0.9500 - val_loss: 0.0261 - val_acc: 1.0000\n",
      "Epoch 24/100\n",
      "1/1 [==============================] - 2s 2s/step - loss: 0.0167 - acc: 1.0000 - val_loss: 0.0167 - val_acc: 1.0000\n",
      "Epoch 25/100\n",
      "1/1 [==============================] - 2s 2s/step - loss: 0.0110 - acc: 1.0000 - val_loss: 0.0125 - val_acc: 1.0000\n",
      "Epoch 26/100\n",
      "1/1 [==============================] - 2s 2s/step - loss: 0.2343 - acc: 0.9500 - val_loss: 0.0357 - val_acc: 1.0000\n",
      "Epoch 27/100\n",
      "1/1 [==============================] - 2s 2s/step - loss: 0.0253 - acc: 1.0000 - val_loss: 0.0205 - val_acc: 1.0000\n",
      "Epoch 28/100\n",
      "1/1 [==============================] - 2s 2s/step - loss: 0.2134 - acc: 0.9500 - val_loss: 0.0441 - val_acc: 1.0000\n",
      "Epoch 29/100\n",
      "1/1 [==============================] - 2s 2s/step - loss: 0.0293 - acc: 1.0000 - val_loss: 0.0244 - val_acc: 1.0000\n",
      "Epoch 30/100\n",
      "1/1 [==============================] - 2s 2s/step - loss: 0.2061 - acc: 0.9500 - val_loss: 0.0484 - val_acc: 1.0000\n",
      "Epoch 31/100\n",
      "1/1 [==============================] - 1s 1s/step - loss: 0.0327 - acc: 1.0000 - val_loss: 0.0249 - val_acc: 1.0000\n",
      "Epoch 32/100\n",
      "1/1 [==============================] - 2s 2s/step - loss: 0.0163 - acc: 1.0000 - val_loss: 0.0165 - val_acc: 1.0000\n",
      "Epoch 33/100\n",
      "1/1 [==============================] - 1s 1s/step - loss: 0.2188 - acc: 0.9500 - val_loss: 0.0423 - val_acc: 1.0000\n",
      "Epoch 34/100\n",
      "1/1 [==============================] - 1s 1s/step - loss: 0.0287 - acc: 1.0000 - val_loss: 0.0241 - val_acc: 1.0000\n",
      "Epoch 35/100\n",
      "1/1 [==============================] - 2s 2s/step - loss: 0.0157 - acc: 1.0000 - val_loss: 0.0146 - val_acc: 1.0000\n",
      "Epoch 36/100\n",
      "1/1 [==============================] - 2s 2s/step - loss: 0.0106 - acc: 1.0000 - val_loss: 0.0116 - val_acc: 1.0000\n",
      "Epoch 37/100\n",
      "1/1 [==============================] - 1s 1s/step - loss: 0.0074 - acc: 1.0000 - val_loss: 0.0083 - val_acc: 1.0000\n",
      "Epoch 38/100\n",
      "1/1 [==============================] - 1s 1s/step - loss: 0.0055 - acc: 1.0000 - val_loss: 0.0068 - val_acc: 1.0000\n",
      "Epoch 39/100\n",
      "1/1 [==============================] - 1s 1s/step - loss: 0.0040 - acc: 1.0000 - val_loss: 0.0055 - val_acc: 1.0000\n",
      "Epoch 40/100\n",
      "1/1 [==============================] - 2s 2s/step - loss: 0.2687 - acc: 0.9500 - val_loss: 0.0259 - val_acc: 1.0000\n",
      "Epoch 41/100\n",
      "1/1 [==============================] - 1s 1s/step - loss: 0.0167 - acc: 1.0000 - val_loss: 0.0172 - val_acc: 1.0000\n",
      "Epoch 42/100\n",
      "1/1 [==============================] - 1s 1s/step - loss: 0.0112 - acc: 1.0000 - val_loss: 0.0117 - val_acc: 1.0000\n",
      "Epoch 43/100\n",
      "1/1 [==============================] - 1s 1s/step - loss: 0.0080 - acc: 1.0000 - val_loss: 0.0087 - val_acc: 1.0000\n",
      "Epoch 44/100\n",
      "1/1 [==============================] - 2s 2s/step - loss: 0.0061 - acc: 1.0000 - val_loss: 0.0069 - val_acc: 1.0000\n",
      "Epoch 45/100\n",
      "1/1 [==============================] - 2s 2s/step - loss: 0.2556 - acc: 0.9500 - val_loss: 0.0291 - val_acc: 1.0000\n",
      "Epoch 46/100\n",
      "1/1 [==============================] - 2s 2s/step - loss: 0.0196 - acc: 1.0000 - val_loss: 0.0172 - val_acc: 1.0000\n",
      "Epoch 47/100\n",
      "1/1 [==============================] - 2s 2s/step - loss: 0.0116 - acc: 1.0000 - val_loss: 0.0122 - val_acc: 1.0000\n",
      "Epoch 48/100\n",
      "1/1 [==============================] - 2s 2s/step - loss: 0.0081 - acc: 1.0000 - val_loss: 0.0086 - val_acc: 1.0000\n",
      "Epoch 49/100\n",
      "1/1 [==============================] - 2s 2s/step - loss: 0.0061 - acc: 1.0000 - val_loss: 0.0071 - val_acc: 1.0000\n",
      "Epoch 50/100\n",
      "1/1 [==============================] - 2s 2s/step - loss: 0.0043 - acc: 1.0000 - val_loss: 0.0060 - val_acc: 1.0000\n",
      "Epoch 51/100\n",
      "1/1 [==============================] - 1s 1s/step - loss: 0.0036 - acc: 1.0000 - val_loss: 0.0046 - val_acc: 1.0000\n",
      "Epoch 52/100\n",
      "1/1 [==============================] - 1s 1s/step - loss: 0.0027 - acc: 1.0000 - val_loss: 0.0040 - val_acc: 1.0000\n",
      "Epoch 53/100\n",
      "1/1 [==============================] - 1s 1s/step - loss: 0.0023 - acc: 1.0000 - val_loss: 0.0033 - val_acc: 1.0000\n",
      "Epoch 54/100\n",
      "1/1 [==============================] - 2s 2s/step - loss: 0.0021 - acc: 1.0000 - val_loss: 0.0030 - val_acc: 1.0000\n",
      "Epoch 55/100\n",
      "1/1 [==============================] - 1s 1s/step - loss: 0.0016 - acc: 1.0000 - val_loss: 0.0025 - val_acc: 1.0000\n",
      "Epoch 56/100\n",
      "1/1 [==============================] - 2s 2s/step - loss: 0.3053 - acc: 0.9500 - val_loss: 0.0209 - val_acc: 1.0000\n",
      "Epoch 57/100\n",
      "1/1 [==============================] - 2s 2s/step - loss: 0.0138 - acc: 1.0000 - val_loss: 0.0142 - val_acc: 1.0000\n",
      "Epoch 58/100\n",
      "1/1 [==============================] - 2s 2s/step - loss: 0.0088 - acc: 1.0000 - val_loss: 0.0099 - val_acc: 1.0000\n",
      "Epoch 59/100\n",
      "1/1 [==============================] - 1s 1s/step - loss: 0.0062 - acc: 1.0000 - val_loss: 0.0080 - val_acc: 1.0000\n",
      "Epoch 60/100\n",
      "1/1 [==============================] - 2s 2s/step - loss: 0.0044 - acc: 1.0000 - val_loss: 0.0058 - val_acc: 1.0000\n",
      "Epoch 61/100\n",
      "1/1 [==============================] - 2s 2s/step - loss: 0.0037 - acc: 1.0000 - val_loss: 0.0052 - val_acc: 1.0000\n",
      "Epoch 62/100\n",
      "1/1 [==============================] - 2s 2s/step - loss: 0.0032 - acc: 1.0000 - val_loss: 0.0041 - val_acc: 1.0000\n",
      "Epoch 63/100\n",
      "1/1 [==============================] - 1s 1s/step - loss: 0.0024 - acc: 1.0000 - val_loss: 0.0036 - val_acc: 1.0000\n",
      "Epoch 64/100\n",
      "1/1 [==============================] - 1s 1s/step - loss: 0.0021 - acc: 1.0000 - val_loss: 0.0031 - val_acc: 1.0000\n",
      "Epoch 65/100\n",
      "1/1 [==============================] - 1s 1s/step - loss: 0.2974 - acc: 0.9500 - val_loss: 0.0221 - val_acc: 1.0000\n",
      "Epoch 66/100\n",
      "1/1 [==============================] - 2s 2s/step - loss: 0.0146 - acc: 1.0000 - val_loss: 0.0144 - val_acc: 1.0000\n",
      "Epoch 67/100\n",
      "1/1 [==============================] - 2s 2s/step - loss: 0.0098 - acc: 1.0000 - val_loss: 0.0099 - val_acc: 1.0000\n",
      "Epoch 68/100\n",
      "1/1 [==============================] - 2s 2s/step - loss: 0.0064 - acc: 1.0000 - val_loss: 0.0081 - val_acc: 1.0000\n",
      "Epoch 69/100\n",
      "1/1 [==============================] - 2s 2s/step - loss: 0.0050 - acc: 1.0000 - val_loss: 0.0064 - val_acc: 1.0000\n",
      "Epoch 70/100\n",
      "1/1 [==============================] - 2s 2s/step - loss: 0.0034 - acc: 1.0000 - val_loss: 0.0051 - val_acc: 1.0000\n",
      "Epoch 71/100\n",
      "1/1 [==============================] - 2s 2s/step - loss: 0.0033 - acc: 1.0000 - val_loss: 0.0041 - val_acc: 1.0000\n",
      "Epoch 72/100\n",
      "1/1 [==============================] - 1s 1s/step - loss: 0.0025 - acc: 1.0000 - val_loss: 0.0035 - val_acc: 1.0000\n",
      "Epoch 73/100\n",
      "1/1 [==============================] - 1s 1s/step - loss: 0.0020 - acc: 1.0000 - val_loss: 0.0029 - val_acc: 1.0000\n",
      "Epoch 74/100\n",
      "1/1 [==============================] - 1s 1s/step - loss: 0.2966 - acc: 0.9500 - val_loss: 0.0214 - val_acc: 1.0000\n",
      "Epoch 75/100\n",
      "1/1 [==============================] - 1s 1s/step - loss: 0.0144 - acc: 1.0000 - val_loss: 0.0150 - val_acc: 1.0000\n",
      "Epoch 76/100\n",
      "1/1 [==============================] - 2s 2s/step - loss: 0.0092 - acc: 1.0000 - val_loss: 0.0105 - val_acc: 1.0000\n",
      "Epoch 77/100\n",
      "1/1 [==============================] - 2s 2s/step - loss: 0.0066 - acc: 1.0000 - val_loss: 0.0080 - val_acc: 1.0000\n",
      "Epoch 78/100\n",
      "1/1 [==============================] - 2s 2s/step - loss: 0.0043 - acc: 1.0000 - val_loss: 0.0064 - val_acc: 1.0000\n",
      "Epoch 79/100\n",
      "1/1 [==============================] - 2s 2s/step - loss: 0.0040 - acc: 1.0000 - val_loss: 0.0053 - val_acc: 1.0000\n",
      "Epoch 80/100\n",
      "1/1 [==============================] - 2s 2s/step - loss: 0.0031 - acc: 1.0000 - val_loss: 0.0040 - val_acc: 1.0000\n",
      "Epoch 81/100\n",
      "1/1 [==============================] - 1s 1s/step - loss: 0.0025 - acc: 1.0000 - val_loss: 0.0040 - val_acc: 1.0000\n",
      "Epoch 82/100\n",
      "1/1 [==============================] - 1s 1s/step - loss: 0.0021 - acc: 1.0000 - val_loss: 0.0033 - val_acc: 1.0000\n",
      "Epoch 83/100\n",
      "1/1 [==============================] - 1s 1s/step - loss: 0.0017 - acc: 1.0000 - val_loss: 0.2912 - val_acc: 0.9500\n",
      "Epoch 84/100\n",
      "1/1 [==============================] - 2s 2s/step - loss: 0.0014 - acc: 1.0000 - val_loss: 0.0022 - val_acc: 1.0000\n",
      "Epoch 85/100\n",
      "1/1 [==============================] - 2s 2s/step - loss: 0.0015 - acc: 1.0000 - val_loss: 0.0021 - val_acc: 1.0000\n",
      "Epoch 86/100\n",
      "1/1 [==============================] - 1s 1s/step - loss: 0.3144 - acc: 0.9500 - val_loss: 0.0194 - val_acc: 1.0000\n",
      "Epoch 87/100\n",
      "1/1 [==============================] - 2s 2s/step - loss: 0.0129 - acc: 1.0000 - val_loss: 0.0127 - val_acc: 1.0000\n",
      "Epoch 88/100\n",
      "1/1 [==============================] - 2s 2s/step - loss: 0.0081 - acc: 1.0000 - val_loss: 0.2374 - val_acc: 0.9500\n",
      "Epoch 89/100\n",
      "1/1 [==============================] - 2s 2s/step - loss: 0.0057 - acc: 1.0000 - val_loss: 0.0077 - val_acc: 1.0000\n",
      "Epoch 90/100\n",
      "1/1 [==============================] - 2s 2s/step - loss: 0.0045 - acc: 1.0000 - val_loss: 0.0057 - val_acc: 1.0000\n",
      "Epoch 91/100\n",
      "1/1 [==============================] - 1s 1s/step - loss: 0.2632 - acc: 0.9500 - val_loss: 0.0267 - val_acc: 1.0000\n",
      "Epoch 92/100\n",
      "1/1 [==============================] - 1s 1s/step - loss: 0.0199 - acc: 1.0000 - val_loss: 0.0163 - val_acc: 1.0000\n",
      "Epoch 93/100\n",
      "1/1 [==============================] - 1s 1s/step - loss: 0.0116 - acc: 1.0000 - val_loss: 0.0111 - val_acc: 1.0000\n",
      "Epoch 94/100\n",
      "1/1 [==============================] - 2s 2s/step - loss: 0.0075 - acc: 1.0000 - val_loss: 0.0084 - val_acc: 1.0000\n",
      "Epoch 95/100\n",
      "1/1 [==============================] - 1s 1s/step - loss: 0.4869 - acc: 0.9000 - val_loss: 0.0511 - val_acc: 1.0000\n",
      "Epoch 96/100\n",
      "1/1 [==============================] - 1s 1s/step - loss: 0.1872 - acc: 0.9500 - val_loss: 0.0578 - val_acc: 1.0000\n",
      "Epoch 97/100\n",
      "1/1 [==============================] - 1s 1s/step - loss: 0.0415 - acc: 1.0000 - val_loss: 0.0322 - val_acc: 1.0000\n",
      "Epoch 98/100\n",
      "1/1 [==============================] - 2s 2s/step - loss: 0.1946 - acc: 0.9500 - val_loss: 0.0469 - val_acc: 1.0000\n",
      "Epoch 99/100\n",
      "1/1 [==============================] - 1s 1s/step - loss: 0.0327 - acc: 1.0000 - val_loss: 0.0267 - val_acc: 1.0000\n",
      "Epoch 100/100\n",
      "1/1 [==============================] - 1s 1s/step - loss: 0.0215 - acc: 1.0000 - val_loss: 0.0190 - val_acc: 1.0000\n"
     ]
    }
   ],
   "source": [
    "history = model.fit_generator(\n",
    "    train_generator, \n",
    "    steps_per_epoch=1, \n",
    "    epochs=100, \n",
    "    validation_data=validation_generator, \n",
    "    validation_steps=1\n",
    ")\n",
    "\n",
    "\n",
    "model.save('leak_and_nonleak_1.h5')"
   ]
  },
  {
   "cell_type": "code",
   "execution_count": null,
   "metadata": {
    "colab": {
     "base_uri": "https://localhost:8080/",
     "height": 545
    },
    "executionInfo": {
     "elapsed": 629,
     "status": "ok",
     "timestamp": 1670571809629,
     "user": {
      "displayName": "Jiang Qu",
      "userId": "09638320580755601104"
     },
     "user_tz": 480
    },
    "id": "TQrLivKHU54V",
    "outputId": "c1b33f05-239d-4e75-cfd3-f271048d9ad1"
   },
   "outputs": [
    {
     "data": {
      "image/png": "[encoded data removed]",
      "text/plain": [
       "<Figure size 432x288 with 1 Axes>"
      ]
     },
     "metadata": {
      "needs_background": "light"
     },
     "output_type": "display_data"
    },
    {
     "data": {
      "image/png": "[encoded data removed]",
      "text/plain": [
       "<Figure size 432x288 with 1 Axes>"
      ]
     },
     "metadata": {
      "needs_background": "light"
     },
     "output_type": "display_data"
    }
   ],
   "source": [
    "\n",
    "\n",
    "acc = history.history['acc'] \n",
    "val_acc = history.history['val_acc'] \n",
    "loss = history.history['loss'] \n",
    "val_loss = history.history['val_loss'] \n",
    "\n",
    "epochs = range(1, len(acc) + 1) \n",
    "\n",
    "plt.plot(epochs, acc, 'bo', label='Training acc') \n",
    "plt.plot(epochs, val_acc, 'b', label='Validation acc') \n",
    "plt.title('Training and Validation accuracy') \n",
    "plt.legend() \n",
    "\n",
    "plt.figure() \n",
    "\n",
    "plt.plot(epochs, loss, 'bo', label='Training loss') \n",
    "plt.plot(epochs, val_loss, 'b', label='Validaion loss') \n",
    "plt.title('Training accuracy and validation loss') \n",
    "plt.legend() \n",
    "\n",
    "plt.show() "
   ]
  },
  {
   "cell_type": "code",
   "execution_count": null,
   "metadata": {
    "colab": {
     "base_uri": "https://localhost:8080/",
     "height": 1000
    },
    "executionInfo": {
     "elapsed": 917,
     "status": "ok",
     "timestamp": 1670571811631,
     "user": {
      "displayName": "Jiang Qu",
      "userId": "09638320580755601104"
     },
     "user_tz": 480
    },
    "id": "HHbyDIj5VGbd",
    "outputId": "93994390-7ed5-4b1b-e320-caf6de44f1cd"
   },
   "outputs": [
    {
     "data": {
      "image/png": "[encoded data removed]",
      "text/plain": [
       "<Figure size 432x288 with 1 Axes>"
      ]
     },
     "metadata": {
      "needs_background": "light"
     },
     "output_type": "display_data"
    },
    {
     "data": {
      "image/png": "[encoded data removed]",
      "text/plain": [
       "<Figure size 432x288 with 1 Axes>"
      ]
     },
     "metadata": {
      "needs_background": "light"
     },
     "output_type": "display_data"
    },
    {
     "data": {
      "image/png": "[encoded data removed]",
      "text/plain": [
       "<Figure size 432x288 with 1 Axes>"
      ]
     },
     "metadata": {
      "needs_background": "light"
     },
     "output_type": "display_data"
    },
    {
     "data": {
      "image/png": "[encoded data removed]",
      "text/plain": [
       "<Figure size 432x288 with 1 Axes>"
      ]
     },
     "metadata": {
      "needs_background": "light"
     },
     "output_type": "display_data"
    }
   ],
   "source": [
    "datagen = ImageDataGenerator(\n",
    "    rotation_range=40,       \n",
    "    width_shift_range=0.2,    \n",
    "    height_shift_range=0.2,   \n",
    "    shear_range=0.2,          \n",
    "    zoom_range=0.2,           \n",
    "    horizontal_flip=True,     \n",
    "    fill_mode='nearest'      \n",
    ")\n",
    "\n",
    "\n",
    "\n",
    "fnames = [os.path.join(train_leaks_dir, fname) for fname in os.listdir(train_leaks_dir)]\n",
    "img_path = fnames[3]  \n",
    "img = load_img(img_path, target_size=(150, 150))\n",
    "x = img_to_array(img)   \n",
    "x = x.reshape((1, ) + x.shape)   \n",
    "\n",
    "i = 0\n",
    "for batch in datagen.flow(x, batch_size=1):\n",
    "    plt.figure(i) \n",
    "    i += 1\n",
    "    imgplot = plt.imshow(array_to_img(batch[0])) \n",
    "    if i % 4 == 0:\n",
    "        break \n",
    "plt.show() "
   ]
  },
  {
   "cell_type": "code",
   "execution_count": null,
   "metadata": {
    "id": "95KNalfHVKWD"
   },
   "outputs": [],
   "source": [
    "model = models.Sequential() \n",
    "model.add(layers.Conv2D(32, (3, 3), activation='relu', input_shape=(150, 150, 3)))\n",
    "model.add(layers.MaxPooling2D((2, 2))) \n",
    "model.add(layers.Conv2D(64, (3, 3), activation='relu')) \n",
    "model.add(layers.MaxPooling2D((2, 2))) \n",
    "model.add(layers.Conv2D(128, (3, 3), activation='relu')) \n",
    "model.add(layers.MaxPooling2D((2, 2))) \n",
    "model.add(layers.Conv2D(128, (3, 3), activation='relu')) \n",
    "model.add(layers.MaxPooling2D((2, 2))) \n",
    "model.add(layers.Flatten()) \n",
    "model.add(layers.Dropout(0.5))\n",
    "model.add(layers.Dense(512, activation='relu')) \n",
    "model.add(layers.Dense(1, activation='sigmoid')) \n",
    "\n",
    "model.compile(loss='binary_crossentropy', optimizer=optimizers.RMSprop(lr=1e-4), metrics=['acc'])"
   ]
  },
  {
   "cell_type": "code",
   "execution_count": null,
   "metadata": {
    "colab": {
     "base_uri": "https://localhost:8080/"
    },
    "executionInfo": {
     "elapsed": 47074,
     "status": "ok",
     "timestamp": 1670571861412,
     "user": {
      "displayName": "Jiang Qu",
      "userId": "09638320580755601104"
     },
     "user_tz": 480
    },
    "id": "PEzlOokkVYxO",
    "outputId": "c93cb0da-f94c-4a36-8944-dd446453d5e6"
   },
   "outputs": [
    {
     "name": "stdout",
     "output_type": "stream",
     "text": [
      "Found 1534 images belonging to 2 classes.\n",
      "Found 1481 images belonging to 2 classes.\n"
     ]
    },
    {
     "name": "stderr",
     "output_type": "stream",
     "text": [
      "<ipython-input-28-0b03bd429ddd>:26: UserWarning: `Model.fit_generator` is deprecated and will be removed in a future version. Please use `Model.fit`, which supports generators.\n",
      "  history = model.fit_generator(\n"
     ]
    },
    {
     "name": "stdout",
     "output_type": "stream",
     "text": [
      "Epoch 1/10\n",
      "1/1 [==============================] - 4s 4s/step - loss: 0.7177 - acc: 0.1875 - val_loss: 0.4794 - val_acc: 1.0000\n",
      "Epoch 2/10\n",
      "1/1 [==============================] - 3s 3s/step - loss: 0.4708 - acc: 0.9688 - val_loss: 0.3004 - val_acc: 0.9688\n",
      "Epoch 3/10\n",
      "1/1 [==============================] - 3s 3s/step - loss: 0.2915 - acc: 0.9688 - val_loss: 0.1231 - val_acc: 1.0000\n",
      "Epoch 4/10\n",
      "1/1 [==============================] - 4s 4s/step - loss: 0.2792 - acc: 0.9375 - val_loss: 0.1122 - val_acc: 1.0000\n",
      "Epoch 5/10\n",
      "1/1 [==============================] - 3s 3s/step - loss: 0.1022 - acc: 1.0000 - val_loss: 0.0446 - val_acc: 1.0000\n",
      "Epoch 6/10\n",
      "1/1 [==============================] - 3s 3s/step - loss: 0.1277 - acc: 0.9688 - val_loss: 0.0287 - val_acc: 1.0000\n",
      "Epoch 7/10\n",
      "1/1 [==============================] - 3s 3s/step - loss: 0.1981 - acc: 0.9688 - val_loss: 0.1375 - val_acc: 0.9688\n",
      "Epoch 8/10\n",
      "1/1 [==============================] - 3s 3s/step - loss: 0.0413 - acc: 1.0000 - val_loss: 0.0221 - val_acc: 1.0000\n",
      "Epoch 9/10\n",
      "1/1 [==============================] - 3s 3s/step - loss: 0.0197 - acc: 1.0000 - val_loss: 0.0131 - val_acc: 1.0000\n",
      "Epoch 10/10\n",
      "1/1 [==============================] - 3s 3s/step - loss: 0.0131 - acc: 1.0000 - val_loss: 0.0092 - val_acc: 1.0000\n"
     ]
    }
   ],
   "source": [
    "train_datagen = ImageDataGenerator(\n",
    "    rescale=1. / 255, \n",
    "    rotation_range=40, \n",
    "    width_shift_range=0.2, \n",
    "    height_shift_range=0.2, \n",
    "    shear_range=0.2, \n",
    "    zoom_range=0.2, \n",
    "    horizontal_flip=True,\n",
    ")\n",
    "\n",
    "test_datagen = ImageDataGenerator(rescale=1./255) \n",
    "train_generator = train_datagen.flow_from_directory(\n",
    "    train_dir, \n",
    "    target_size=(150, 150), \n",
    "    batch_size=32, \n",
    "    class_mode='binary'\n",
    ")\n",
    "\n",
    "validation_generator = test_datagen.flow_from_directory(\n",
    "    validation_dir, \n",
    "    target_size=(150, 150), \n",
    "    batch_size=32, \n",
    "    class_mode='binary'\n",
    ")\n",
    "\n",
    "history = model.fit_generator(  \n",
    "    \n",
    "    train_generator, \n",
    "    steps_per_epoch=1, \n",
    "    epochs=10, \n",
    "    validation_data=validation_generator, \n",
    "    validation_steps=1\n",
    ")\n",
    "\n",
    "# Save\n",
    "model.save('leak_and_nonleak_2.h5') "
   ]
  },
  {
   "cell_type": "code",
   "execution_count": null,
   "metadata": {
    "colab": {
     "base_uri": "https://localhost:8080/",
     "height": 545
    },
    "executionInfo": {
     "elapsed": 50030,
     "status": "ok",
     "timestamp": 1670571911589,
     "user": {
      "displayName": "Jiang Qu",
      "userId": "09638320580755601104"
     },
     "user_tz": 480
    },
    "id": "jj2OfYh2Vbel",
    "outputId": "c53a9b12-ba42-45c4-d7ec-abf539c6156b"
   },
   "outputs": [
    {
     "data": {
      "image/png": "[encoded data removed]",
      "text/plain": [
       "<Figure size 432x288 with 1 Axes>"
      ]
     },
     "metadata": {
      "needs_background": "light"
     },
     "output_type": "display_data"
    },
    {
     "data": {
      "image/png": "[encoded data removed]",
      "text/plain": [
       "<Figure size 432x288 with 1 Axes>"
      ]
     },
     "metadata": {
      "needs_background": "light"
     },
     "output_type": "display_data"
    }
   ],
   "source": [
    "\n",
    "\n",
    "acc = history.history['acc'] \n",
    "val_acc = history.history['val_acc'] \n",
    "loss = history.history['loss'] \n",
    "val_loss = history.history['val_loss'] \n",
    "\n",
    "epochs = range(1, len(acc) + 1) \n",
    "\n",
    "plt.plot(epochs, acc, 'bo', label='Training acc') \n",
    "plt.plot(epochs, val_acc, 'b', label='Validation acc') \n",
    "plt.title('Training and Validation accuracy') \n",
    "plt.legend() \n",
    "\n",
    "plt.figure() \n",
    "\n",
    "plt.plot(epochs, loss, 'bo', label='Training loss') \n",
    "plt.plot(epochs, val_loss, 'b', label='Validaion loss') \n",
    "plt.title('Training and validation loss') \n",
    "plt.legend() \n",
    "\n",
    "plt.show() "
   ]
  },
  {
   "cell_type": "code",
   "execution_count": null,
   "metadata": {
    "colab": {
     "base_uri": "https://localhost:8080/"
    },
    "executionInfo": {
     "elapsed": 775,
     "status": "ok",
     "timestamp": 1670571914761,
     "user": {
      "displayName": "Jiang Qu",
      "userId": "09638320580755601104"
     },
     "user_tz": 480
    },
    "id": "mo8j8j6TVqqn",
    "outputId": "ed5c8811-70d7-4498-848e-9be578b4cfb5"
   },
   "outputs": [
    {
     "name": "stdout",
     "output_type": "stream",
     "text": [
      "1/1 [==============================] - 0s 293ms/step\n"
     ]
    },
    {
     "data": {
      "text/plain": [
       "0.9978688573464751"
      ]
     },
     "execution_count": 30,
     "metadata": {},
     "output_type": "execute_result"
    }
   ],
   "source": [
    "f1 = r'/content/gdrive/MyDrive/Methane_Team/Leakage_Classification/test/frame5013.jpg'  \n",
    "f2 = r'/content/gdrive/MyDrive/Methane_Team/Leakage_Classification/test/frame4544.jpg'  \n",
    "\n",
    "\n",
    "\n",
    "img_path = f1\n",
    "img = load_img(img_path, target_size=(150, 150))\n",
    "x = img_to_array(img)   \n",
    "x = x.astype('float32') / 255\n",
    "x = x.reshape((1, ) + x.shape)   \n",
    "\n",
    "res = model.predict(x)   \n",
    "leak_acc = 1 - res[0][0]\n",
    "leak_acc"
   ]
  },
  {
   "cell_type": "code",
   "execution_count": null,
   "metadata": {
    "colab": {
     "base_uri": "https://localhost:8080/",
     "height": 265
    },
    "executionInfo": {
     "elapsed": 1039,
     "status": "ok",
     "timestamp": 1670571975578,
     "user": {
      "displayName": "Jiang Qu",
      "userId": "09638320580755601104"
     },
     "user_tz": 480
    },
    "id": "rBvvPanuV4T0",
    "outputId": "5459557c-2b2b-41f4-cff8-177da3ee1f01"
   },
   "outputs": [
    {
     "name": "stdout",
     "output_type": "stream",
     "text": [
      "1/1 [==============================] - 0s 106ms/step\n"
     ]
    },
    {
     "data": {
      "image/png": "[encoded data removed]",
      "text/plain": [
       "<Figure size 432x288 with 1 Axes>"
      ]
     },
     "metadata": {
      "needs_background": "light"
     },
     "output_type": "display_data"
    }
   ],
   "source": [
    "\n",
    "\n",
    "model = load_model('./leak_and_nonleak_2.h5')\n",
    "image_path = r'/content/gdrive/MyDrive/Methane_Team/Leakage_Classification/test/frame4411.jpg'  \n",
    "original_image = load_img(image_path)\n",
    "\n",
    "img = load_img(image_path, target_size=(150, 150))\n",
    "x = img_to_array(img) \n",
    "x = x.astype('float32') / 255 \n",
    "x = x.reshape((1, ) + x.shape) \n",
    "\n",
    "res = model.predict(x)\n",
    "res = res[0][0]\n",
    "acc = 1- res\n",
    "\n",
    "text = 'leak'\n",
    "if res > 0.5:\n",
    "    text = 'nonleak'\n",
    "plt.imshow(original_image)\n",
    "plt.axis(\"off\")\n",
    "plt.text(30, 40, text, fontdict=dict(fontsize=30, color='r',\n",
    "            family='monospace',\n",
    "            weight='bold',\n",
    "            )\n",
    ")\n",
    "plt.show()"
   ]
  },
  {
   "cell_type": "code",
   "execution_count": null,
   "metadata": {
    "colab": {
     "base_uri": "https://localhost:8080/"
    },
    "executionInfo": {
     "elapsed": 137,
     "status": "ok",
     "timestamp": 1670571978983,
     "user": {
      "displayName": "Jiang Qu",
      "userId": "09638320580755601104"
     },
     "user_tz": 480
    },
    "id": "qL87eGVTV7Wz",
    "outputId": "0f8c5368-6d0f-4e96-f5d5-de99234e28fb"
   },
   "outputs": [
    {
     "data": {
      "text/plain": [
       "0.9951537624001503"
      ]
     },
     "execution_count": 34,
     "metadata": {},
     "output_type": "execute_result"
    }
   ],
   "source": [
    "acc"
   ]
  },
  {
   "cell_type": "code",
   "execution_count": null,
   "metadata": {
    "id": "mQGnGvcJWCDU"
   },
   "outputs": [],
   "source": []
  }
 ],
 "metadata": {
  "colab": {
   "provenance": []
  },
  "kernelspec": {
   "display_name": "Python 3 (ipykernel)",
   "language": "python",
   "name": "python3"
  },
  "language_info": {
   "codemirror_mode": {
    "name": "ipython",
    "version": 3
   },
   "file_extension": ".py",
   "mimetype": "text/x-python",
   "name": "python",
   "nbconvert_exporter": "python",
   "pygments_lexer": "ipython3",
   "version": "3.10.8"
  }
 },
 "nbformat": 4,
 "nbformat_minor": 1
}
