{
  "cells": [
    {
      "attachments": {},
      "cell_type": "markdown",
      "id": "ed4fe270",
      "metadata": {},
      "source": [
        "## Install Requirements\n",
        "******Remember to restart the kernel after installing"
      ]
    },
    {
      "cell_type": "code",
      "execution_count": 1,
      "id": "d1f1532b",
      "metadata": {},
      "outputs": [
        {
          "name": "stdout",
          "output_type": "stream",
          "text": [
            "Requirement already satisfied: pip in c:\\users\\bestlab\\squishy-methane-analysis\\lib\\site-packages (23.2.1)\n",
            "Note: you may need to restart the kernel to use updated packages.\n",
            "Ignoring tensorflow: markers 'sys_platform == \"linux\"' don't match your environment\n",
            "Ignoring tensorflow: markers 'sys_platform == \"windows\"' don't match your environment\n",
            "Ignoring tensorflow-macos: markers 'sys_platform == \"darwin\"' don't match your environment\n",
            "Requirement already satisfied: keras>=2.11.0 in c:\\users\\bestlab\\squishy-methane-analysis\\lib\\site-packages (from -r ../requirements.txt (line 4)) (2.12.0)\n",
            "Requirement already satisfied: pillow>=9.4.0 in c:\\users\\bestlab\\squishy-methane-analysis\\lib\\site-packages (from -r ../requirements.txt (line 5)) (9.5.0)\n",
            "Requirement already satisfied: opencv-python>=4.7.0.72 in c:\\users\\bestlab\\squishy-methane-analysis\\lib\\site-packages (from -r ../requirements.txt (line 6)) (4.7.0.72)\n",
            "Requirement already satisfied: scipy>=1.10.1 in c:\\users\\bestlab\\squishy-methane-analysis\\lib\\site-packages (from -r ../requirements.txt (line 7)) (1.10.1)\n",
            "Requirement already satisfied: matplotlib>=3.7.1 in c:\\users\\bestlab\\squishy-methane-analysis\\lib\\site-packages (from -r ../requirements.txt (line 8)) (3.7.1)\n",
            "Requirement already satisfied: scikit-learn in c:\\users\\bestlab\\squishy-methane-analysis\\lib\\site-packages (from -r ../requirements.txt (line 9)) (1.2.2)\n",
            "Requirement already satisfied: numpy>=1.21.2 in c:\\users\\bestlab\\squishy-methane-analysis\\lib\\site-packages (from opencv-python>=4.7.0.72->-r ../requirements.txt (line 6)) (1.23.5)\n",
            "Requirement already satisfied: contourpy>=1.0.1 in c:\\users\\bestlab\\squishy-methane-analysis\\lib\\site-packages (from matplotlib>=3.7.1->-r ../requirements.txt (line 8)) (1.0.7)\n",
            "Requirement already satisfied: cycler>=0.10 in c:\\users\\bestlab\\squishy-methane-analysis\\lib\\site-packages (from matplotlib>=3.7.1->-r ../requirements.txt (line 8)) (0.11.0)\n",
            "Requirement already satisfied: fonttools>=4.22.0 in c:\\users\\bestlab\\squishy-methane-analysis\\lib\\site-packages (from matplotlib>=3.7.1->-r ../requirements.txt (line 8)) (4.39.3)\n",
            "Requirement already satisfied: kiwisolver>=1.0.1 in c:\\users\\bestlab\\squishy-methane-analysis\\lib\\site-packages (from matplotlib>=3.7.1->-r ../requirements.txt (line 8)) (1.4.4)\n",
            "Requirement already satisfied: packaging>=20.0 in c:\\users\\bestlab\\squishy-methane-analysis\\lib\\site-packages (from matplotlib>=3.7.1->-r ../requirements.txt (line 8)) (23.1)\n",
            "Requirement already satisfied: pyparsing>=2.3.1 in c:\\users\\bestlab\\squishy-methane-analysis\\lib\\site-packages (from matplotlib>=3.7.1->-r ../requirements.txt (line 8)) (3.0.9)\n",
            "Requirement already satisfied: python-dateutil>=2.7 in c:\\users\\bestlab\\squishy-methane-analysis\\lib\\site-packages (from matplotlib>=3.7.1->-r ../requirements.txt (line 8)) (2.8.2)\n",
            "Requirement already satisfied: joblib>=1.1.1 in c:\\users\\bestlab\\squishy-methane-analysis\\lib\\site-packages (from scikit-learn->-r ../requirements.txt (line 9)) (1.2.0)\n",
            "Requirement already satisfied: threadpoolctl>=2.0.0 in c:\\users\\bestlab\\squishy-methane-analysis\\lib\\site-packages (from scikit-learn->-r ../requirements.txt (line 9)) (3.1.0)\n",
            "Requirement already satisfied: six>=1.5 in c:\\users\\bestlab\\squishy-methane-analysis\\lib\\site-packages (from python-dateutil>=2.7->matplotlib>=3.7.1->-r ../requirements.txt (line 8)) (1.16.0)\n",
            "Note: you may need to restart the kernel to use updated packages.\n"
          ]
        }
      ],
      "source": [
        "%pip install --upgrade pip\n",
        "%pip install -r ../requirements.txt"
      ]
    },
    {
      "cell_type": "code",
      "execution_count": 2,
      "id": "6481e4d6",
      "metadata": {},
      "outputs": [],
      "source": [
        "import os, sys, shutil\n",
        "import numpy as np\n",
        "import matplotlib.pyplot as plt\n",
        "import cv2\n",
        "from sklearn.model_selection import train_test_split"
      ]
    },
    {
      "attachments": {},
      "cell_type": "markdown",
      "id": "66510eaa",
      "metadata": {},
      "source": [
        "## Process the videos into frames"
      ]
    },
    {
      "cell_type": "code",
      "execution_count": 3,
      "id": "a2af18a6",
      "metadata": {},
      "outputs": [],
      "source": [
        "def calc_median(frames):\n",
        "    median_frame = np.median(frames, axis=0).astype(dtype=np.uint8)\n",
        "    return median_frame"
      ]
    },
    {
      "cell_type": "code",
      "execution_count": 4,
      "id": "1df84742",
      "metadata": {},
      "outputs": [],
      "source": [
        "def extractImages(pathIn, pathOut, leakRange, nonleakRange):\n",
        "\n",
        "  '''\n",
        "  Input:\n",
        "    String: pathIn should be the path of the video \n",
        "    String: pathOut should be the path of the folder where the name of the folder is the name of the video\n",
        "    Tuple: range of leak frames from video\n",
        "    Tuple: range of nonleak frames from video\n",
        "\n",
        "  Output:\n",
        "    creates two subfolders in pathOut called Leaks and Nonleaks\n",
        "      Leaks folder contains the frames where there are leaks\n",
        "      Nonleaks folder contains the frames where there are noleaks\n",
        "  '''\n",
        "\n",
        "  leakPath = os.path.join(pathOut, \"Leak\")\n",
        "  nonleakPath = os.path.join(pathOut, \"Nonleaks\")\n",
        "  \n",
        "  os.makedirs(leakPath, exist_ok=True)\n",
        "  os.makedirs(nonleakPath, exist_ok=True)\n",
        "\n",
        "  def helper(pathIn, pathOut, range, isleak):\n",
        "    '''\n",
        "    Might need to clean this up, but this was extracted from the original extractImages from the previous implementation\n",
        "    \n",
        "    '''\n",
        "    # count = range[0]\n",
        "\n",
        "    #getting start and end of range (end is inclusive)\n",
        "    start = range[0] \n",
        "    end = range[1] + 1\n",
        "    #setting up moving average list\n",
        "    prev_imgs = []\n",
        "    prev_limit = 10 #210 in paper\n",
        "\n",
        "    vidcap = cv2.VideoCapture(pathIn)\n",
        "    #setting start of video to the start frame\n",
        "    vidcap.set(cv2.CAP_PROP_POS_FRAMES, start)\n",
        "    #reading frame\n",
        "    success,image = vidcap.read()\n",
        "    success = True\n",
        "    X_design = []\n",
        "\n",
        "    image = cv2.cvtColor(image, cv2.COLOR_BGR2GRAY)\n",
        "    prev_imgs.append(image)\n",
        "    median_img = calc_median(prev_imgs)\n",
        "    image = cv2.absdiff(image, median_img)\n",
        "\n",
        "    image = image.reshape(*(image.shape), 1)\n",
        "    X_design.append(np.array(image))\n",
        "    start += 15\n",
        "\n",
        "    if vidcap.isOpened():\n",
        "      while success and start < end:\n",
        "          # vidcap.set(cv2.CAP_PROP_POS_MSEC, (start*1000))    # added this line \n",
        "          vidcap.set(cv2.CAP_PROP_POS_FRAMES, start)\n",
        "          success, image = vidcap.read()\n",
        "          if success:\n",
        "            #print ('Read a new frame: ', count, \" ,isleak: \", isleak)\n",
        "            # label = 0\n",
        "\n",
        "            image = cv2.cvtColor(image, cv2.COLOR_BGR2GRAY)\n",
        "            prev_imgs.append(image)\n",
        "\n",
        "            if len(prev_imgs) > prev_limit:\n",
        "                prev_imgs.pop(0)\n",
        "\n",
        "            median_img = calc_median(prev_imgs)\n",
        "            image = cv2.absdiff(image, median_img)\n",
        "            # if isleak:\n",
        "            #   cv2.imwrite(os.path.join(pathOut, \"leak.frame%d.jpg\" % start), image)     # save frame as JPEG file\n",
        "            #   label = 1\n",
        "            # else:\n",
        "            #   cv2.imwrite(os.path.join(pathOut, \"nonleak.frame%d.jpg\" % start), image)\n",
        "            image = image.reshape(*(image.shape), 1)\n",
        "            X_design.append(np.array(image))\n",
        "            start += 15\n",
        "          else:\n",
        "            print ('Error at frame: ', start, \" ,isleak: \", isleak)\n",
        "            break\n",
        "      vidcap.release()\n",
        "    cv2.destroyAllWindows()\n",
        "    return np.stack(X_design)\n",
        "  # call helper for both leak and nonleak\n",
        "  X_leak = helper(pathIn, leakPath, leakRange, True)\n",
        "  y_leak = np.ones(X_leak.shape[0])\n",
        "  X_nonleak = helper(pathIn, nonleakPath, nonleakRange, False)\n",
        "  y_nonleak = np.zeros(X_nonleak.shape[0])\n",
        "\n",
        "  X = np.concatenate((X_leak, X_nonleak), axis=0)\n",
        "  y = np.concatenate((y_leak, y_nonleak), axis=0)\n",
        "  \n",
        "  return X, y"
      ]
    },
    {
      "attachments": {},
      "cell_type": "markdown",
      "id": "aeca3bff",
      "metadata": {},
      "source": [
        "### Get the images now"
      ]
    },
    {
      "cell_type": "code",
      "execution_count": 5,
      "id": "e779a95c",
      "metadata": {},
      "outputs": [],
      "source": [
        "# get generic path to directory\n",
        "dir_path = os.path.dirname(os.path.realpath(\"__file__\"))\n",
        "\n",
        "# get all raw video data directories\n",
        "data_dir = os.path.join(dir_path, 'data')\n",
        "\n",
        "train_data_dir = os.path.join(data_dir, 'train')\n",
        "test_data_dir = os.path.join(data_dir, 'test')\n",
        "\n",
        "frame_data_dir = os.path.join(dir_path, 'frame_data_debug')\n",
        "frame_train_data_dir = os.path.join(frame_data_dir, 'train')\n",
        "frame_test_data_dir = os.path.join(frame_data_dir, 'test')"
      ]
    },
    {
      "cell_type": "code",
      "execution_count": 6,
      "id": "ef1cfaf8",
      "metadata": {},
      "outputs": [
        {
          "data": {
            "text/plain": [
              "25"
            ]
          },
          "execution_count": 6,
          "metadata": {},
          "output_type": "execute_result"
        }
      ],
      "source": [
        "raw_data = np.loadtxt(os.path.join(dir_path, 'GasVid_Ranges.csv'), skiprows=1, delimiter=',', dtype=int)\n",
        "\n",
        "ranges = list(zip(raw_data[:, 0], raw_data[:, 1:3], raw_data[:, 3:5])) #need to upload new ranges\n",
        "ranges = {ranges[i][0] : (ranges[i][1], ranges[i][2]) for i in range(len(ranges))}\n",
        "len(ranges)"
      ]
    },
    {
      "cell_type": "code",
      "execution_count": 7,
      "id": "ee1c7fae",
      "metadata": {},
      "outputs": [
        {
          "data": {
            "text/plain": [
              "{2564: (array([ 465, 2865]), array([ 3165, 22065])),\n",
              " 2559: (array([ 660, 3060]), array([ 3360, 22260])),\n",
              " 2560: (array([ 480, 2880]), array([ 3180, 22080])),\n",
              " 2561: (array([ 510, 2910]), array([ 3210, 22110])),\n",
              " 2562: (array([ 585, 2985]), array([ 3285, 22185])),\n",
              " 1242: (array([ 300, 2700]), array([ 3000, 21900])),\n",
              " 1237: (array([ 510, 2910]), array([ 3210, 22110])),\n",
              " 1238: (array([ 285, 2685]), array([ 2985, 20985])),\n",
              " 1239: (array([ 300, 2700]), array([ 3000, 21900])),\n",
              " 1240: (array([ 330, 2730]), array([ 3030, 21930])),\n",
              " 2566: (array([ 495, 2895]), array([ 3195, 22095])),\n",
              " 2567: (array([ 330, 2730]), array([ 3030, 21930])),\n",
              " 2568: (array([ 225, 2625]), array([ 2580, 21480])),\n",
              " 2569: (array([ 480, 2880]), array([ 3180, 22080])),\n",
              " 2570: (array([ 675, 3075]), array([ 3375, 22275])),\n",
              " 2578: (array([ 615, 3015]), array([ 3315, 22215])),\n",
              " 2579: (array([ 480, 2880]), array([ 3180, 22080])),\n",
              " 2580: (array([ 630, 3030]), array([ 3330, 22230])),\n",
              " 2581: (array([ 645, 3045]), array([ 3345, 22245])),\n",
              " 2582: (array([ 390, 2790]), array([ 5790, 24690])),\n",
              " 1467: (array([ 495, 2895]), array([ 3195, 22095])),\n",
              " 1468: (array([ 300, 2700]), array([ 3000, 21900])),\n",
              " 1469: (array([ 360, 2760]), array([ 3060, 21960])),\n",
              " 1470: (array([ 270, 2670]), array([ 2970, 20970])),\n",
              " 1471: (array([2715, 5115]), array([ 5415, 23415]))}"
            ]
          },
          "execution_count": 7,
          "metadata": {},
          "output_type": "execute_result"
        }
      ],
      "source": [
        "ranges"
      ]
    },
    {
      "cell_type": "code",
      "execution_count": 8,
      "id": "a4f0cdfd",
      "metadata": {},
      "outputs": [],
      "source": [
        "def read_frames_from_dir(dir_path, output_path, image_dim, max_vids=None):\n",
        "    cur_count = 1\n",
        "    X_train, y_train = np.array([], dtype=np.int64).reshape(0, image_dim[0], image_dim[1], 1), []\n",
        "    for file in os.listdir(dir_path):\n",
        "        if max_vids and cur_count > max_vids:\n",
        "            break\n",
        "        vid_path = os.path.join(dir_path, file)\n",
        "        vid_id = int(os.path.basename(vid_path)[4:8])\n",
        "        if vid_id not in ranges.keys():\n",
        "            continue\n",
        "        nonleak_start = ranges[vid_id][0][0]\n",
        "        nonleak_end = ranges[vid_id][0][1]\n",
        "        leak_start = ranges[vid_id][1][0]\n",
        "        leak_end = ranges[vid_id][1][1]\n",
        "\n",
        "        X_vid, y_vid = extractImages(vid_path, output_path, (leak_start, leak_end), (nonleak_start, nonleak_end))\n",
        "        print(\"Video\", vid_id, X_vid.shape)\n",
        "        X_train = np.concatenate((X_train, X_vid), axis=0)\n",
        "        y_train.append(y_vid)\n",
        "        print('Done with', cur_count, \"video(s)\")\n",
        "        cur_count += 1\n",
        "    y_train = np.concatenate(y_train, axis=0) # improve time complexity\n",
        "    return X_train, y_train"
      ]
    },
    {
      "cell_type": "code",
      "execution_count": 9,
      "id": "7ec8d092",
      "metadata": {},
      "outputs": [
        {
          "name": "stdout",
          "output_type": "stream",
          "text": [
            "Video 1237 (1422, 240, 320, 1)\n",
            "Done with 1 video(s)\n",
            "Video 1238 (1362, 240, 320, 1)\n",
            "Done with 2 video(s)\n",
            "Video 1239 (1422, 240, 320, 1)\n",
            "Done with 3 video(s)\n",
            "Video 1240 (1422, 240, 320, 1)\n",
            "Done with 4 video(s)\n",
            "Error at frame:  21870  ,isleak:  True\n",
            "Video 1242 (1419, 240, 320, 1)\n",
            "Done with 5 video(s)\n",
            "Video 2559 (1422, 240, 320, 1)\n",
            "Done with 6 video(s)\n",
            "Error at frame:  21855  ,isleak:  True\n",
            "Video 2560 (1406, 240, 320, 1)\n",
            "Done with 7 video(s)\n",
            "Error at frame:  21915  ,isleak:  True\n",
            "Video 2561 (1408, 240, 320, 1)\n",
            "Done with 8 video(s)\n",
            "Error at frame:  22020  ,isleak:  True\n",
            "Video 2562 (1410, 240, 320, 1)\n",
            "Done with 9 video(s)\n",
            "Error at frame:  21795  ,isleak:  True\n",
            "Video 2564 (1403, 240, 320, 1)\n",
            "Done with 10 video(s)\n",
            "Error at frame:  21825  ,isleak:  True\n",
            "Video 2566 (1403, 240, 320, 1)\n",
            "Done with 11 video(s)\n",
            "Error at frame:  21840  ,isleak:  True\n",
            "Video 2567 (1415, 240, 320, 1)\n",
            "Done with 12 video(s)\n",
            "Error at frame:  21465  ,isleak:  True\n",
            "Video 2568 (1420, 240, 320, 1)\n",
            "Done with 13 video(s)\n",
            "Error at frame:  21840  ,isleak:  True\n",
            "Video 2569 (1405, 240, 320, 1)\n",
            "Done with 14 video(s)\n",
            "Error at frame:  22035  ,isleak:  True\n",
            "Video 2570 (1405, 240, 320, 1)\n",
            "Done with 15 video(s)\n",
            "Done with Training Data\n",
            "Error at frame:  22080  ,isleak:  True\n",
            "Video 1467 (1420, 240, 320, 1)\n",
            "Done with 1 video(s)\n",
            "Video 1468 (1422, 240, 320, 1)\n",
            "Done with 2 video(s)\n",
            "Video 1469 (1422, 240, 320, 1)\n",
            "Done with 3 video(s)\n",
            "Video 1470 (1362, 240, 320, 1)\n",
            "Done with 4 video(s)\n",
            "Video 1471 (1362, 240, 320, 1)\n",
            "Done with 5 video(s)\n",
            "Error at frame:  21870  ,isleak:  True\n",
            "Video 2578 (1398, 240, 320, 1)\n",
            "Done with 6 video(s)\n",
            "Video 2579 (1422, 240, 320, 1)\n",
            "Done with 7 video(s)\n",
            "Error at frame:  22095  ,isleak:  True\n",
            "Video 2580 (1412, 240, 320, 1)\n",
            "Done with 8 video(s)\n",
            "Video 2581 (1422, 240, 320, 1)\n",
            "Done with 9 video(s)\n",
            "Video 2582 (1422, 240, 320, 1)\n",
            "Done with 10 video(s)\n",
            "Done with Testing Data\n"
          ]
        },
        {
          "data": {
            "text/plain": [
              "((21144, 240, 320, 1), (21144,), (14064, 240, 320, 1), (14064,))"
            ]
          },
          "execution_count": 9,
          "metadata": {},
          "output_type": "execute_result"
        }
      ],
      "source": [
        "image_dim = (240, 320)\n",
        "vid_count = 15\n",
        "test_count = 10\n",
        "\n",
        "X_train, y_train = read_frames_from_dir(train_data_dir, frame_train_data_dir, image_dim, vid_count)\n",
        "print(\"Done with Training Data\")\n",
        "X_test, y_test = read_frames_from_dir(test_data_dir, frame_test_data_dir, image_dim, test_count)\n",
        "print(\"Done with Testing Data\")\n",
        "X_train.shape, y_train.shape, X_test.shape, y_test.shape"
      ]
    },
    {
      "cell_type": "code",
      "execution_count": 10,
      "id": "282266c5",
      "metadata": {},
      "outputs": [
        {
          "name": "stdout",
          "output_type": "stream",
          "text": [
            "Model: \"sequential\"\n",
            "_________________________________________________________________\n",
            " Layer (type)                Output Shape              Param #   \n",
            "=================================================================\n",
            " conv2d (Conv2D)             (None, 238, 318, 4)       40        \n",
            "                                                                 \n",
            " batch_normalization (BatchN  (None, 238, 318, 4)      16        \n",
            " ormalization)                                                   \n",
            "                                                                 \n",
            " re_lu (ReLU)                (None, 238, 318, 4)       0         \n",
            "                                                                 \n",
            " max_pooling2d (MaxPooling2D  (None, 119, 159, 4)      0         \n",
            " )                                                               \n",
            "                                                                 \n",
            " dropout (Dropout)           (None, 119, 159, 4)       0         \n",
            "                                                                 \n",
            " conv2d_1 (Conv2D)           (None, 117, 157, 8)       296       \n",
            "                                                                 \n",
            " batch_normalization_1 (Batc  (None, 117, 157, 8)      32        \n",
            " hNormalization)                                                 \n",
            "                                                                 \n",
            " re_lu_1 (ReLU)              (None, 117, 157, 8)       0         \n",
            "                                                                 \n",
            " max_pooling2d_1 (MaxPooling  (None, 58, 78, 8)        0         \n",
            " 2D)                                                             \n",
            "                                                                 \n",
            " dropout_1 (Dropout)         (None, 58, 78, 8)         0         \n",
            "                                                                 \n",
            " conv2d_2 (Conv2D)           (None, 56, 76, 8)         584       \n",
            "                                                                 \n",
            " batch_normalization_2 (Batc  (None, 56, 76, 8)        32        \n",
            " hNormalization)                                                 \n",
            "                                                                 \n",
            " re_lu_2 (ReLU)              (None, 56, 76, 8)         0         \n",
            "                                                                 \n",
            " max_pooling2d_2 (MaxPooling  (None, 28, 38, 8)        0         \n",
            " 2D)                                                             \n",
            "                                                                 \n",
            " dropout_2 (Dropout)         (None, 28, 38, 8)         0         \n",
            "                                                                 \n",
            " conv2d_3 (Conv2D)           (None, 26, 36, 4)         292       \n",
            "                                                                 \n",
            " batch_normalization_3 (Batc  (None, 26, 36, 4)        16        \n",
            " hNormalization)                                                 \n",
            "                                                                 \n",
            " re_lu_3 (ReLU)              (None, 26, 36, 4)         0         \n",
            "                                                                 \n",
            " max_pooling2d_3 (MaxPooling  (None, 13, 18, 4)        0         \n",
            " 2D)                                                             \n",
            "                                                                 \n",
            " dropout_3 (Dropout)         (None, 13, 18, 4)         0         \n",
            "                                                                 \n",
            " flatten (Flatten)           (None, 936)               0         \n",
            "                                                                 \n",
            " dense (Dense)               (None, 2400)              2248800   \n",
            "                                                                 \n",
            " dropout_4 (Dropout)         (None, 2400)              0         \n",
            "                                                                 \n",
            " dense_1 (Dense)             (None, 32)                76832     \n",
            "                                                                 \n",
            " dense_2 (Dense)             (None, 1)                 33        \n",
            "                                                                 \n",
            "=================================================================\n",
            "Total params: 2,326,973\n",
            "Trainable params: 2,326,925\n",
            "Non-trainable params: 48\n",
            "_________________________________________________________________\n"
          ]
        }
      ],
      "source": [
        "from keras import layers \n",
        "from keras import models \n",
        "\n",
        "model = models.Sequential() \n",
        "\n",
        "# Conv Pool 1\n",
        "model.add(layers.Conv2D(4, (3, 3), input_shape=(240, 320, 1)))\n",
        "model.add(layers.BatchNormalization())\n",
        "model.add(layers.ReLU())\n",
        "model.add(layers.MaxPooling2D((2, 2)))\n",
        "model.add(layers.Dropout(0.5))\n",
        "\n",
        "# Conv Pool 2\n",
        "model.add(layers.Conv2D(8, (3, 3)))\n",
        "model.add(layers.BatchNormalization())\n",
        "model.add(layers.ReLU())\n",
        "model.add(layers.MaxPooling2D((2, 2)))\n",
        "model.add(layers.Dropout(0.5))\n",
        "\n",
        "# Conv Pool 3\n",
        "model.add(layers.Conv2D(8, (3, 3)))\n",
        "model.add(layers.BatchNormalization())\n",
        "model.add(layers.ReLU())\n",
        "model.add(layers.MaxPooling2D((2, 2)))\n",
        "model.add(layers.Dropout(0.5))\n",
        "\n",
        "# Conv Pool4\n",
        "model.add(layers.Conv2D(4, (3, 3)))\n",
        "model.add(layers.BatchNormalization())\n",
        "model.add(layers.ReLU())\n",
        "model.add(layers.MaxPooling2D((2, 2)))\n",
        "model.add(layers.Dropout(0.5))\n",
        "\n",
        "model.add(layers.Flatten())\n",
        "\n",
        "model.add(layers.Dense(2400, activation='relu')) \n",
        "model.add(layers.Dropout(0.5))\n",
        "model.add(layers.Dense(32, activation='relu')) \n",
        "model.add(layers.Dense(1, activation='sigmoid')) \n",
        "\n",
        "model.summary()"
      ]
    },
    {
      "cell_type": "code",
      "execution_count": 11,
      "id": "9e44bea3",
      "metadata": {},
      "outputs": [],
      "source": [
        "# from keras import layers \n",
        "# from keras import models \n",
        "\n",
        "# model = models.Sequential() \n",
        "# model.add(layers.Conv2D(32, (3, 3), activation='relu', input_shape=(240, 320, 1)))\n",
        "# model.add(layers.MaxPooling2D((2, 2)))\n",
        "# model.add(layers.Conv2D(64, (3, 3), activation='relu'))\n",
        "# model.add(layers.MaxPooling2D((2, 2))) \n",
        "# model.add(layers.Conv2D(128, (3, 3), activation='relu')) \n",
        "# model.add(layers.MaxPooling2D((2, 2))) \n",
        "# model.add(layers.Conv2D(128, (3, 3), activation='relu'))\n",
        "# model.add(layers.MaxPooling2D((2, 2))) \n",
        "# model.add(layers.Flatten()) \n",
        "# model.add(layers.Dense(512, activation='relu')) \n",
        "# model.add(layers.Dense(1, activation='sigmoid')) \n",
        "\n",
        "# model.summary()"
      ]
    },
    {
      "cell_type": "code",
      "execution_count": 12,
      "id": "53beee3f",
      "metadata": {},
      "outputs": [
        {
          "data": {
            "text/plain": [
              "(21144, 240, 320, 1)"
            ]
          },
          "execution_count": 12,
          "metadata": {},
          "output_type": "execute_result"
        }
      ],
      "source": [
        "X_train.shape"
      ]
    },
    {
      "cell_type": "code",
      "execution_count": 13,
      "id": "560ca282",
      "metadata": {},
      "outputs": [
        {
          "data": {
            "text/plain": [
              "(21144,)"
            ]
          },
          "execution_count": 13,
          "metadata": {},
          "output_type": "execute_result"
        }
      ],
      "source": [
        "y_train.shape"
      ]
    },
    {
      "cell_type": "code",
      "execution_count": 14,
      "id": "f0a8ff9b",
      "metadata": {},
      "outputs": [
        {
          "data": {
            "text/plain": [
              "array([[[0],\n",
              "        [0],\n",
              "        [0],\n",
              "        ...,\n",
              "        [0],\n",
              "        [0],\n",
              "        [0]],\n",
              "\n",
              "       [[0],\n",
              "        [0],\n",
              "        [0],\n",
              "        ...,\n",
              "        [0],\n",
              "        [0],\n",
              "        [0]],\n",
              "\n",
              "       [[0],\n",
              "        [0],\n",
              "        [0],\n",
              "        ...,\n",
              "        [0],\n",
              "        [0],\n",
              "        [0]],\n",
              "\n",
              "       ...,\n",
              "\n",
              "       [[0],\n",
              "        [0],\n",
              "        [0],\n",
              "        ...,\n",
              "        [0],\n",
              "        [0],\n",
              "        [0]],\n",
              "\n",
              "       [[0],\n",
              "        [0],\n",
              "        [0],\n",
              "        ...,\n",
              "        [0],\n",
              "        [0],\n",
              "        [0]],\n",
              "\n",
              "       [[0],\n",
              "        [0],\n",
              "        [0],\n",
              "        ...,\n",
              "        [0],\n",
              "        [0],\n",
              "        [0]]], dtype=int64)"
            ]
          },
          "execution_count": 14,
          "metadata": {},
          "output_type": "execute_result"
        }
      ],
      "source": [
        "X_train[0]"
      ]
    },
    {
      "cell_type": "code",
      "execution_count": 15,
      "id": "bdc04fb8",
      "metadata": {},
      "outputs": [],
      "source": [
        "val_split = 0.2\n",
        "X_t, X_v, y_t, y_v = train_test_split(X_train, y_train, test_size=val_split, stratify=y_train)\n",
        "\n",
        "X = np.concatenate((X_t, X_v))\n",
        "y = np.concatenate((y_t, y_v))"
      ]
    },
    {
      "cell_type": "code",
      "execution_count": 16,
      "id": "3c601a3a",
      "metadata": {},
      "outputs": [],
      "source": [
        "nonleaks = len(y) - sum(y)\n",
        "leaks = sum(y)\n",
        "total = len(y)\n",
        "\n",
        "weight_nonleak = (1 / nonleaks) * (total / 2.0)\n",
        "weight_leak = (1 / leaks) * (total / 2.0)\n",
        "\n",
        "class_weight = {0: weight_nonleak, 1: weight_leak}"
      ]
    },
    {
      "cell_type": "code",
      "execution_count": 17,
      "id": "b3d2aa38",
      "metadata": {},
      "outputs": [
        {
          "data": {
            "text/plain": [
              "{0: 4.377639751552795, 1: 0.5644722088739388}"
            ]
          },
          "execution_count": 17,
          "metadata": {},
          "output_type": "execute_result"
        }
      ],
      "source": [
        "class_weight"
      ]
    },
    {
      "cell_type": "code",
      "execution_count": 18,
      "id": "1948e646",
      "metadata": {},
      "outputs": [],
      "source": [
        "from keras import optimizers \n",
        "from keras import metrics\n",
        "\n",
        "def F1Score(y_true, y_pred):\n",
        "    prec = metrics.Precision()\n",
        "    recall = metrics.Recall()\n",
        "    prec.update_state(y_true, y_pred)\n",
        "    recall.update_state(y_true, y_pred)\n",
        "    prec_res = prec.result().numpy()\n",
        "    rec_res = recall.result().numpy()\n",
        "    return 2 * (prec_res * rec_res) / (prec_res + rec_res)\n",
        "\n",
        "model.compile(loss='binary_crossentropy', optimizer=optimizers.Adam(learning_rate=1e-4), metrics=[F1Score, \"acc\"], run_eagerly=True)\n"
      ]
    },
    {
      "cell_type": "code",
      "execution_count": 19,
      "id": "cf9a7636",
      "metadata": {},
      "outputs": [],
      "source": [
        "def sample_weights(data):\n",
        "    weights = []\n",
        "    zero_sum = 0\n",
        "    for image in data:\n",
        "        summed_pixels = np.sum(image)\n",
        "        if summed_pixels == 0:\n",
        "            weights.append(0)\n",
        "            zero_sum += 1\n",
        "        else:\n",
        "            # try using sqrt transformation for weight skew\n",
        "            # weights.append(1 / np.sqrt(summed_pixels))\n",
        "            weights.append(1 / summed_pixels)\n",
        "    median_weight = np.median(weights)\n",
        "    weights = [median_weight if weight == 0 else weight for weight in weights]\n",
        "    # print(zero_sum) # debugging\n",
        "    return weights"
      ]
    },
    {
      "cell_type": "code",
      "execution_count": 20,
      "id": "fa764872",
      "metadata": {},
      "outputs": [],
      "source": [
        "X_train_weights = sample_weights(X_train)"
      ]
    },
    {
      "cell_type": "code",
      "execution_count": 21,
      "id": "9e8ca854",
      "metadata": {},
      "outputs": [],
      "source": [
        "from keras.preprocessing.image import ImageDataGenerator\n",
        "\n",
        "batch_size = 32\n",
        "\n",
        "# for now, dont do augmentation\n",
        "train_datagen = ImageDataGenerator(\n",
        "    featurewise_center=True,\n",
        "    featurewise_std_normalization=True,\n",
        "    rescale=1. / 255,\n",
        "    validation_split=val_split,\n",
        "    horizontal_flip=True,\n",
        "    shear_range=0.2,\n",
        "    zoom_range=0.05,\n",
        ")\n",
        "\n",
        "train_datagen.fit(X)\n",
        "\n",
        "train_flow = train_datagen.flow(\n",
        "    X, y, \n",
        "    # sample_weight = X_train_weights,\n",
        "    # target_size=(150, 150), \n",
        "    batch_size=batch_size,\n",
        "    # class_mode='binary',\n",
        "    subset='training'\n",
        ")\n",
        "\n",
        "val_flow = train_datagen.flow(\n",
        "    X, y, \n",
        "    # target_size=(150, 150), \n",
        "    batch_size=batch_size,\n",
        "    # class_mode='binary',\n",
        "    subset='validation'\n",
        ")"
      ]
    },
    {
      "cell_type": "code",
      "execution_count": 30,
      "id": "9b8543cb",
      "metadata": {},
      "outputs": [
        {
          "name": "stdout",
          "output_type": "stream",
          "text": [
            "Epoch 1/10\n"
          ]
        },
        {
          "name": "stderr",
          "output_type": "stream",
          "text": [
            "C:\\Users\\bestlab\\AppData\\Local\\Temp\\ipykernel_8816\\2802881186.py:3: UserWarning: `Model.fit_generator` is deprecated and will be removed in a future version. Please use `Model.fit`, which supports generators.\n",
            "  history = model.fit_generator(\n"
          ]
        },
        {
          "name": "stdout",
          "output_type": "stream",
          "text": [
            "529/529 [==============================] - 288s 544ms/step - loss: 0.2829 - F1Score: 0.9020 - acc: 0.8430 - val_loss: 1.6650 - val_F1Score: 0.4103 - val_acc: 0.2812\n",
            "Epoch 2/10\n",
            "529/529 [==============================] - 288s 543ms/step - loss: 0.2710 - F1Score: 0.9068 - acc: 0.8497 - val_loss: 0.8490 - val_F1Score: 0.6316 - val_acc: 0.5625\n",
            "Epoch 3/10\n",
            "529/529 [==============================] - 288s 544ms/step - loss: 0.2571 - F1Score: 0.9140 - acc: 0.8606 - val_loss: 1.1464 - val_F1Score: 0.5000 - val_acc: 0.4375\n",
            "Epoch 4/10\n",
            "529/529 [==============================] - 288s 544ms/step - loss: 0.2504 - F1Score: 0.9179 - acc: 0.8662 - val_loss: 0.8174 - val_F1Score: 0.7143 - val_acc: 0.6250\n",
            "Epoch 5/10\n",
            "529/529 [==============================] - 288s 545ms/step - loss: 0.2482 - F1Score: 0.9178 - acc: 0.8660 - val_loss: 0.9381 - val_F1Score: 0.6667 - val_acc: 0.5625\n",
            "Epoch 6/10\n",
            "529/529 [==============================] - 288s 545ms/step - loss: 0.2384 - F1Score: 0.9234 - acc: 0.8747 - val_loss: 0.8681 - val_F1Score: 0.6957 - val_acc: 0.5625\n",
            "Epoch 7/10\n",
            "529/529 [==============================] - 288s 545ms/step - loss: 0.2394 - F1Score: 0.9233 - acc: 0.8749 - val_loss: 0.5511 - val_F1Score: 0.7826 - val_acc: 0.6875\n",
            "Epoch 8/10\n",
            "529/529 [==============================] - 289s 545ms/step - loss: 0.2225 - F1Score: 0.9283 - acc: 0.8821 - val_loss: 0.8551 - val_F1Score: 0.6500 - val_acc: 0.5625\n",
            "Epoch 9/10\n",
            "529/529 [==============================] - 289s 546ms/step - loss: 0.2267 - F1Score: 0.9278 - acc: 0.8816 - val_loss: 0.7495 - val_F1Score: 0.7660 - val_acc: 0.6562\n",
            "Epoch 10/10\n",
            "529/529 [==============================] - 288s 545ms/step - loss: 0.2162 - F1Score: 0.9318 - acc: 0.8878 - val_loss: 0.7618 - val_F1Score: 0.6809 - val_acc: 0.5312\n"
          ]
        }
      ],
      "source": [
        "num_epochs = 10\n",
        "\n",
        "history = model.fit_generator(\n",
        "    train_flow, \n",
        "    epochs=num_epochs, \n",
        "    validation_data=val_flow, \n",
        "    validation_steps=1,\n",
        "    class_weight=class_weight\n",
        ")\n",
        "\n",
        "\n",
        "model.save('leak_and_nonleak_roy.h5')"
      ]
    },
    {
      "cell_type": "code",
      "execution_count": 31,
      "id": "d77f93f3",
      "metadata": {},
      "outputs": [
        {
          "data": {
            "image/png": "[encoded data removed]",
            "text/plain": [
              "<Figure size 640x480 with 1 Axes>"
            ]
          },
          "metadata": {},
          "output_type": "display_data"
        },
        {
          "data": {
            "image/png": "[encoded data removed]",
            "text/plain": [
              "<Figure size 640x480 with 1 Axes>"
            ]
          },
          "metadata": {},
          "output_type": "display_data"
        }
      ],
      "source": [
        "import matplotlib.pyplot as plt \n",
        "\n",
        "f1 = history.history['F1Score'] \n",
        "val_f1 = history.history['val_F1Score'] \n",
        "loss = history.history['loss'] \n",
        "val_loss = history.history['val_loss'] \n",
        "\n",
        "epochs = range(1, len(f1) + 1) \n",
        "\n",
        "plt.plot(epochs, f1, 'bo', label='Training F1 Score') \n",
        "plt.plot(epochs, val_f1, 'b', label='Validation F1 Score') \n",
        "plt.title('Training and Validation F1 Score') \n",
        "plt.legend() \n",
        "\n",
        "plt.figure() \n",
        "\n",
        "plt.plot(epochs, loss, 'bo', label='Training loss') \n",
        "plt.plot(epochs, val_loss, 'b', label='Validaion loss') \n",
        "plt.title('Training loss and validation loss') \n",
        "plt.legend() \n",
        "\n",
        "plt.show() "
      ]
    },
    {
      "attachments": {},
      "cell_type": "markdown",
      "id": "54d08c0a",
      "metadata": {},
      "source": [
        "## Testing"
      ]
    },
    {
      "cell_type": "code",
      "execution_count": 32,
      "id": "8fe79490",
      "metadata": {},
      "outputs": [],
      "source": [
        "test_datagen = ImageDataGenerator(\n",
        "    featurewise_center=True,\n",
        "    featurewise_std_normalization=True,\n",
        "    rescale=1. / 255,\n",
        ")\n",
        "\n",
        "test_datagen.fit(X_test)\n",
        "\n",
        "test_flow = test_datagen.flow(\n",
        "    X_test,\n",
        "    batch_size=batch_size,\n",
        "    shuffle=False,\n",
        "    \n",
        ")"
      ]
    },
    {
      "cell_type": "code",
      "execution_count": 33,
      "id": "8def50c8",
      "metadata": {},
      "outputs": [
        {
          "name": "stdout",
          "output_type": "stream",
          "text": [
            "440/440 [==============================] - 48s 108ms/step\n"
          ]
        }
      ],
      "source": [
        "predictions = model.predict(test_flow)"
      ]
    },
    {
      "cell_type": "code",
      "execution_count": 34,
      "id": "b8e3ffbd",
      "metadata": {},
      "outputs": [],
      "source": [
        "processed_preds = (predictions >= 0.5).flatten().astype(int)"
      ]
    },
    {
      "cell_type": "code",
      "execution_count": 35,
      "id": "d32b9121",
      "metadata": {},
      "outputs": [
        {
          "name": "stdout",
          "output_type": "stream",
          "text": [
            "Test Accuracy is 0.5562428896473265 after training for 10 epochs on 14064 test images\n"
          ]
        }
      ],
      "source": [
        "test_acc = np.sum(processed_preds == y_test) / len(y_test)\n",
        "print(f'Test Accuracy is {test_acc} after training for {num_epochs} epochs on {len(y_test)} test images')"
      ]
    },
    {
      "cell_type": "code",
      "execution_count": 36,
      "id": "50e6c77d",
      "metadata": {},
      "outputs": [
        {
          "name": "stdout",
          "output_type": "stream",
          "text": [
            "Leak Test accuracy is 0.49943793158824473 after training for 10 epochs on 12454 leak test images\n",
            "Non-Leak Test accuracy is 0.9956521739130435 after training for 10 epochs on 1610 non-leak test images\n"
          ]
        }
      ],
      "source": [
        "leak_indices = [i for i in range(len(y_test)) if y_test[i] == 1]\n",
        "nonleak_indices = [i for i in range(len(y_test)) if y_test[i] == 0]\n",
        "leak_predictions, leak_y_test = processed_preds[leak_indices], y_test[leak_indices]\n",
        "nonleak_predictions, nonleak_y_test = processed_preds[nonleak_indices], y_test[nonleak_indices]\n",
        "\n",
        "leak_test_acc = np.sum(leak_predictions == leak_y_test) / len(leak_y_test)\n",
        "nonleak_test_acc = np.sum(nonleak_predictions == nonleak_y_test) / len(nonleak_y_test)\n",
        "print(f'Leak Test accuracy is {leak_test_acc} after training for {num_epochs} epochs on {len(leak_y_test)} leak test images')\n",
        "print(f'Non-Leak Test accuracy is {nonleak_test_acc} after training for {num_epochs} epochs on {len(nonleak_y_test)} non-leak test images')\n"
      ]
    },
    {
      "attachments": {},
      "cell_type": "markdown",
      "id": "238d197e",
      "metadata": {},
      "source": [
        "## Below is legacy code appendix"
      ]
    },
    {
      "cell_type": "code",
      "execution_count": 29,
      "id": "e1cb00a1",
      "metadata": {},
      "outputs": [
        {
          "ename": "NameError",
          "evalue": "name 'train_cats_dir' is not defined",
          "output_type": "error",
          "traceback": [
            "\u001b[1;31m---------------------------------------------------------------------------\u001b[0m",
            "\u001b[1;31mNameError\u001b[0m                                 Traceback (most recent call last)",
            "Cell \u001b[1;32mIn[29], line 17\u001b[0m\n\u001b[0;32m     14\u001b[0m \u001b[39mfrom\u001b[39;00m \u001b[39mtensorflow\u001b[39;00m\u001b[39m.\u001b[39;00m\u001b[39mkeras\u001b[39;00m\u001b[39m.\u001b[39;00m\u001b[39mutils\u001b[39;00m \u001b[39mimport\u001b[39;00m img_to_array\n\u001b[0;32m     15\u001b[0m \u001b[39mfrom\u001b[39;00m \u001b[39mtensorflow\u001b[39;00m\u001b[39m.\u001b[39;00m\u001b[39mkeras\u001b[39;00m\u001b[39m.\u001b[39;00m\u001b[39mutils\u001b[39;00m \u001b[39mimport\u001b[39;00m array_to_img\n\u001b[1;32m---> 17\u001b[0m fnames \u001b[39m=\u001b[39m [os\u001b[39m.\u001b[39mpath\u001b[39m.\u001b[39mjoin(train_cats_dir, fname) \u001b[39mfor\u001b[39;00m fname \u001b[39min\u001b[39;00m os\u001b[39m.\u001b[39mlistdir(train_cats_dir)]\n\u001b[0;32m     18\u001b[0m img_path \u001b[39m=\u001b[39m fnames[\u001b[39m3\u001b[39m]  \u001b[39m# \u001b[39;00m\n\u001b[0;32m     19\u001b[0m img \u001b[39m=\u001b[39m load_img(img_path, target_size\u001b[39m=\u001b[39m(\u001b[39m150\u001b[39m, \u001b[39m150\u001b[39m))\n",
            "\u001b[1;31mNameError\u001b[0m: name 'train_cats_dir' is not defined"
          ]
        }
      ],
      "source": [
        "datagen = ImageDataGenerator(\n",
        "    rotation_range=40,       #\n",
        "    width_shift_range=0.2,   # \n",
        "    height_shift_range=0.2,  # \n",
        "    shear_range=0.2,         # \n",
        "    zoom_range=0.2,          # \n",
        "    horizontal_flip=True,    # \n",
        "    fill_mode='nearest'      # \n",
        ")\n",
        "\n",
        "# \n",
        "from keras.preprocessing import image \n",
        "from tensorflow.keras.utils import load_img\n",
        "from tensorflow.keras.utils import img_to_array\n",
        "from tensorflow.keras.utils import array_to_img\n",
        "\n",
        "fnames = [os.path.join(train_cats_dir, fname) for fname in os.listdir(train_cats_dir)]\n",
        "img_path = fnames[3]  # \n",
        "img = load_img(img_path, target_size=(150, 150))\n",
        "x = img_to_array(img)  # \n",
        "x = x.reshape((1, ) + x.shape)  # \n",
        "\n",
        "i = 0\n",
        "for batch in datagen.flow(x, batch_size=1):\n",
        "    plt.figure(i) \n",
        "    i += 1\n",
        "    imgplot = plt.imshow(array_to_img(batch[0])) \n",
        "    if i % 4 == 0:\n",
        "        break \n",
        "plt.show() "
      ]
    },
    {
      "cell_type": "code",
      "execution_count": null,
      "id": "c77db281",
      "metadata": {},
      "outputs": [],
      "source": [
        "model = models.Sequential() \n",
        "model.add(layers.Conv2D(32, (3, 3), activation='relu', input_shape=(150, 150, 3)))\n",
        "model.add(layers.MaxPooling2D((2, 2))) \n",
        "model.add(layers.Conv2D(64, (3, 3), activation='relu')) \n",
        "model.add(layers.MaxPooling2D((2, 2))) \n",
        "model.add(layers.Conv2D(128, (3, 3), activation='relu')) \n",
        "model.add(layers.MaxPooling2D((2, 2))) \n",
        "model.add(layers.Conv2D(128, (3, 3), activation='relu')) \n",
        "model.add(layers.MaxPooling2D((2, 2))) \n",
        "model.add(layers.Flatten()) \n",
        "model.add(layers.Dropout(0.5))\n",
        "model.add(layers.Dense(512, activation='relu')) \n",
        "model.add(layers.Dense(1, activation='sigmoid')) \n",
        "\n",
        "model.compile(loss='binary_crossentropy', optimizer=optimizers.RMSprop(lr=1e-4), metrics=['acc'])"
      ]
    },
    {
      "cell_type": "code",
      "execution_count": null,
      "id": "9849ea87",
      "metadata": {},
      "outputs": [],
      "source": [
        "train_datagen = ImageDataGenerator(\n",
        "    rescale=1. / 255, \n",
        "    rotation_range=40, \n",
        "    width_shift_range=0.2, \n",
        "    height_shift_range=0.2, \n",
        "    shear_range=0.2, \n",
        "    zoom_range=0.2, \n",
        "    horizontal_flip=True,\n",
        ")\n",
        "\n",
        "test_datagen = ImageDataGenerator(rescale=1./255) \n",
        "train_generator = train_datagen.flow_from_directory(\n",
        "    train_dir, \n",
        "    target_size=(150, 150), \n",
        "    batch_size=32, \n",
        "    class_mode='binary'\n",
        ")\n",
        "\n",
        "validation_generator = test_datagen.flow_from_directory(\n",
        "    validation_dir, \n",
        "    target_size=(150, 150), \n",
        "    batch_size=32, \n",
        "    class_mode='binary'\n",
        ")\n",
        "\n",
        "history = model.fit_generator(  \n",
        "    \n",
        "    train_generator, \n",
        "    steps_per_epoch=1, \n",
        "    epochs=30, \n",
        "    validation_data=validation_generator, \n",
        "    validation_steps=1\n",
        ")\n",
        "\n",
        "# Save\n",
        "model.save('leak_and_nonleak_2.h5') "
      ]
    },
    {
      "cell_type": "code",
      "execution_count": null,
      "id": "435db319",
      "metadata": {},
      "outputs": [],
      "source": [
        "import matplotlib.pyplot as plt \n",
        "\n",
        "acc = history.history['acc'] \n",
        "val_acc = history.history['val_acc'] \n",
        "loss = history.history['loss'] \n",
        "val_loss = history.history['val_loss'] \n",
        "\n",
        "epochs = range(1, len(acc) + 1) \n",
        "\n",
        "plt.plot(epochs, acc, 'bo', label='Training acc') \n",
        "plt.plot(epochs, val_acc, 'b', label='Validation acc') \n",
        "plt.title('Training and Validation accuracy') \n",
        "plt.legend() \n",
        "\n",
        "plt.figure() \n",
        "\n",
        "plt.plot(epochs, loss, 'bo', label='Training loss') \n",
        "plt.plot(epochs, val_loss, 'b', label='Validaion loss') \n",
        "plt.title('Training and validation loss') \n",
        "plt.legend() \n",
        "\n",
        "plt.show() "
      ]
    },
    {
      "cell_type": "code",
      "execution_count": null,
      "id": "d729ab03",
      "metadata": {},
      "outputs": [],
      "source": [
        "f1 = r'/Users/ianchen/Desktop/MethaneCNN/test/frame3018.jpg'  # nonleak\n",
        "f2 = r'/Users/ianchen/Desktop/MethaneCNN/test/frame4414.jpg'  # leak\n",
        "\n",
        "from tensorflow.keras.utils import load_img\n",
        "from tensorflow.keras.utils import img_to_array\n",
        "from tensorflow.keras.utils import array_to_img\n",
        "\n",
        "img_path = f2\n",
        "img = load_img(img_path, target_size=(150, 150))\n",
        "x = img_to_array(img)  # \n",
        "x = x.astype('float32') / 255\n",
        "x = x.reshape((1, ) + x.shape)  # \n",
        "\n",
        "res = model.predict(x)  # \n",
        "leak_acc = 1 - res[0][0]\n",
        "leak_acc"
      ]
    },
    {
      "cell_type": "code",
      "execution_count": null,
      "id": "d4b7fc97",
      "metadata": {},
      "outputs": [],
      "source": [
        "import matplotlib.pyplot as plt \n",
        "from keras.preprocessing import image \n",
        "from keras.models import load_model\n",
        "from tensorflow.keras.utils import load_img\n",
        "from tensorflow.keras.utils import img_to_array\n",
        "from tensorflow.keras.utils import array_to_img\n",
        "\n",
        "model = load_model('./leak_and_nonleak_2.h5')\n",
        "image_path = r'./test/frame4404.jpg'  # \n",
        "original_image = load_img(image_path)\n",
        "\n",
        "img = load_img(image_path, target_size=(150, 150))\n",
        "x = img_to_array(img) \n",
        "x = x.astype('float32') / 255 \n",
        "x = x.reshape((1, ) + x.shape) \n",
        "\n",
        "res = model.predict(x)\n",
        "res = res[0][0]\n",
        "acc = 1- res\n",
        "\n",
        "text = 'leak'\n",
        "if res > 0.5:\n",
        "    text = 'nonleak'\n",
        "plt.imshow(original_image)\n",
        "plt.axis(\"off\")\n",
        "plt.text(30, 40, text, fontdict=dict(fontsize=30, color='r',\n",
        "            family='monospace',#\n",
        "            weight='bold',#\n",
        "            )#\n",
        ")\n",
        "plt.show()"
      ]
    },
    {
      "cell_type": "code",
      "execution_count": null,
      "id": "a0ccd972",
      "metadata": {},
      "outputs": [],
      "source": [
        "acc"
      ]
    },
    {
      "cell_type": "code",
      "execution_count": null,
      "id": "0cb78953",
      "metadata": {},
      "outputs": [],
      "source": []
    }
  ],
  "metadata": {
    "kernelspec": {
      "display_name": "Python 3",
      "language": "python",
      "name": "python3"
    },
    "language_info": {
      "codemirror_mode": {
        "name": "ipython",
        "version": 3
      },
      "file_extension": ".py",
      "mimetype": "text/x-python",
      "name": "python",
      "nbconvert_exporter": "python",
      "pygments_lexer": "ipython3",
      "version": "3.10.0"
    },
    "vscode": {
      "interpreter": {
        "hash": "bd385fe162c5ca0c84973b7dd5c518456272446b2b64e67c2a69f949ca7a1754"
      }
    }
  },
  "nbformat": 4,
  "nbformat_minor": 5
}
