{
 "cells": [
  {
   "cell_type": "code",
   "execution_count": 1,
   "metadata": {},
   "outputs": [
    {
     "name": "stdout",
     "output_type": "stream",
     "text": [
      "Requirement already satisfied: pip in c:\\users\\bestlab\\squishy-methane-analysis\\lib\\site-packages (23.2)\n",
      "Note: you may need to restart the kernel to use updated packages.\n",
      "Ignoring tensorflow: markers 'sys_platform == \"linux\"' don't match your environment\n",
      "Ignoring tensorflow: markers 'sys_platform == \"windows\"' don't match your environment\n",
      "Ignoring tensorflow-macos: markers 'sys_platform == \"darwin\"' don't match your environment\n",
      "Requirement already satisfied: keras>=2.11.0 in c:\\users\\bestlab\\squishy-methane-analysis\\lib\\site-packages (from -r ../requirements.txt (line 4)) (2.12.0)\n",
      "Requirement already satisfied: pillow>=9.4.0 in c:\\users\\bestlab\\squishy-methane-analysis\\lib\\site-packages (from -r ../requirements.txt (line 5)) (9.5.0)\n",
      "Requirement already satisfied: opencv-python>=4.7.0.72 in c:\\users\\bestlab\\squishy-methane-analysis\\lib\\site-packages (from -r ../requirements.txt (line 6)) (4.7.0.72)\n",
      "Requirement already satisfied: scipy>=1.10.1 in c:\\users\\bestlab\\squishy-methane-analysis\\lib\\site-packages (from -r ../requirements.txt (line 7)) (1.10.1)\n",
      "Requirement already satisfied: matplotlib>=3.7.1 in c:\\users\\bestlab\\squishy-methane-analysis\\lib\\site-packages (from -r ../requirements.txt (line 8)) (3.7.1)\n",
      "Requirement already satisfied: scikit-learn in c:\\users\\bestlab\\squishy-methane-analysis\\lib\\site-packages (from -r ../requirements.txt (line 9)) (1.2.2)\n",
      "Requirement already satisfied: numpy>=1.21.2 in c:\\users\\bestlab\\squishy-methane-analysis\\lib\\site-packages (from opencv-python>=4.7.0.72->-r ../requirements.txt (line 6)) (1.23.5)\n",
      "Requirement already satisfied: contourpy>=1.0.1 in c:\\users\\bestlab\\squishy-methane-analysis\\lib\\site-packages (from matplotlib>=3.7.1->-r ../requirements.txt (line 8)) (1.0.7)\n",
      "Requirement already satisfied: cycler>=0.10 in c:\\users\\bestlab\\squishy-methane-analysis\\lib\\site-packages (from matplotlib>=3.7.1->-r ../requirements.txt (line 8)) (0.11.0)\n",
      "Requirement already satisfied: fonttools>=4.22.0 in c:\\users\\bestlab\\squishy-methane-analysis\\lib\\site-packages (from matplotlib>=3.7.1->-r ../requirements.txt (line 8)) (4.39.3)\n",
      "Requirement already satisfied: kiwisolver>=1.0.1 in c:\\users\\bestlab\\squishy-methane-analysis\\lib\\site-packages (from matplotlib>=3.7.1->-r ../requirements.txt (line 8)) (1.4.4)\n",
      "Requirement already satisfied: packaging>=20.0 in c:\\users\\bestlab\\squishy-methane-analysis\\lib\\site-packages (from matplotlib>=3.7.1->-r ../requirements.txt (line 8)) (23.1)\n",
      "Requirement already satisfied: pyparsing>=2.3.1 in c:\\users\\bestlab\\squishy-methane-analysis\\lib\\site-packages (from matplotlib>=3.7.1->-r ../requirements.txt (line 8)) (3.0.9)\n",
      "Requirement already satisfied: python-dateutil>=2.7 in c:\\users\\bestlab\\squishy-methane-analysis\\lib\\site-packages (from matplotlib>=3.7.1->-r ../requirements.txt (line 8)) (2.8.2)\n",
      "Requirement already satisfied: joblib>=1.1.1 in c:\\users\\bestlab\\squishy-methane-analysis\\lib\\site-packages (from scikit-learn->-r ../requirements.txt (line 9)) (1.2.0)\n",
      "Requirement already satisfied: threadpoolctl>=2.0.0 in c:\\users\\bestlab\\squishy-methane-analysis\\lib\\site-packages (from scikit-learn->-r ../requirements.txt (line 9)) (3.1.0)\n",
      "Requirement already satisfied: six>=1.5 in c:\\users\\bestlab\\squishy-methane-analysis\\lib\\site-packages (from python-dateutil>=2.7->matplotlib>=3.7.1->-r ../requirements.txt (line 8)) (1.16.0)\n",
      "Note: you may need to restart the kernel to use updated packages.\n"
     ]
    }
   ],
   "source": [
    "%pip install --upgrade pip\n",
    "%pip install -r ../requirements.txt"
   ]
  },
  {
   "attachments": {},
   "cell_type": "markdown",
   "metadata": {},
   "source": [
    "Started a new Leak_Nonleak jupyter notebook to seperate the optical flow model for now\n",
    "\n",
    "- Goal: To see accuracy and loss of temporal model without stacking\n",
    "- Future Goal: Add this to original jupyter notebook to have everything in one"
   ]
  },
  {
   "cell_type": "code",
   "execution_count": 2,
   "metadata": {},
   "outputs": [],
   "source": [
    "import os, sys, shutil\n",
    "import numpy as np\n",
    "import matplotlib.pyplot as plt\n",
    "import cv2\n",
    "import tensorflow as tf\n",
    "from sklearn.model_selection import train_test_split"
   ]
  },
  {
   "cell_type": "code",
   "execution_count": 3,
   "metadata": {},
   "outputs": [],
   "source": [
    "blur_kernel_size = 5\n",
    "threshold_block_size = 9\n",
    "threshold_constant = 2\n",
    "\n",
    "def preprocessing(frame):\n",
    "    gray = cv2.cvtColor(frame, cv2.COLOR_BGR2GRAY)\n",
    "    #blur = cv2.GaussianBlur(gray, (blur_kernel_size, blur_kernel_size), 0)\n",
    "    #threshold_frame = cv2.adaptiveThreshold(blur, 255, cv2.ADAPTIVE_THRESH_GAUSSIAN_C, cv2.THRESH_BINARY, threshold_block_size, threshold_constant)\n",
    "    return gray\n",
    "\n",
    "def calc_median(frames):\n",
    "    median_frame = np.median(frames, axis=0).astype(dtype=np.uint8)\n",
    "    return median_frame"
   ]
  },
  {
   "cell_type": "code",
   "execution_count": 4,
   "metadata": {},
   "outputs": [],
   "source": [
    "#changed the helper function as we are calculating the optical flow between frames\n",
    "def extractImages(pathIn, pathOut, leakRange, nonleakRange):\n",
    "\n",
    "  '''\n",
    "  Input:\n",
    "    String: pathIn should be the path of the video \n",
    "    String: pathOut should be the path of the folder where the name of the folder is the name of the video\n",
    "    Tuple: range of leak frames from video\n",
    "    Tuple: range of nonleak frames from video\n",
    "\n",
    "  Output:\n",
    "    creates two subfolders in pathOut called Leaks and Nonleaks\n",
    "      Leaks folder contains the frames where there are leaks\n",
    "      Nonleaks folder contains the frames where there are noleaks\n",
    "  '''\n",
    "\n",
    "  leakPath = os.path.join(pathOut, \"Leak\")\n",
    "  nonleakPath = os.path.join(pathOut, \"Nonleaks\")\n",
    "  \n",
    "  os.makedirs(leakPath, exist_ok=True)\n",
    "  os.makedirs(nonleakPath, exist_ok=True)\n",
    "\n",
    "  def helper(pathIn, pathOut, range, isleak):\n",
    "    '''\n",
    "    Might need to clean this up, but this was extracted from the original extractImages from the previous implementation\n",
    "    \n",
    "    '''\n",
    "    count = range[0]\n",
    "    start = 0\n",
    "\n",
    "    prev_frames = []\n",
    "    prev_limit = 210\n",
    "\n",
    "    vidcap = cv2.VideoCapture(pathIn)\n",
    "    success, prev_frame = vidcap.read()\n",
    "\n",
    "    \n",
    "    prev_frame = preprocessing(prev_frame)\n",
    "    prev_frames.append(prev_frame)\n",
    "    median_frame = calc_median(prev_frames)\n",
    "    prev_frame = cv2.absdiff(prev_frame, median_frame)\n",
    "\n",
    "    success = True\n",
    "    X_design = []\n",
    "\n",
    "\n",
    "\n",
    "    if vidcap.isOpened():\n",
    "      while success and count < range[1]:\n",
    "          vidcap.set(cv2.CAP_PROP_POS_MSEC, (start*1000))    # added this line \n",
    "          success, next_frame = vidcap.read()\n",
    "\n",
    "          \n",
    "\n",
    "          if success:\n",
    "            #print ('Read a new frame: ', count, \" ,isleak: \", isleak)\n",
    "            label = 0\n",
    "\n",
    "            next_frame = preprocessing(next_frame)\n",
    "            prev_frames.append(next_frame)\n",
    "\n",
    "            if len(prev_frames) > prev_limit:\n",
    "                prev_frames.pop(0)\n",
    "            \n",
    "            median_frame = calc_median(prev_frames)\n",
    "            next_frame = cv2.absdiff(next_frame, median_frame)\n",
    "\n",
    "            flow = cv2.calcOpticalFlowFarneback(prev_frame, next_frame, None, 0.5, 3, 9, 3, 5, 1.1, 0)\n",
    "\n",
    "            horz = cv2.normalize(flow[..., 0], None, 0, 1, cv2.NORM_MINMAX)\n",
    "            vert = cv2.normalize(flow[..., 1], None, 0, 1, cv2.NORM_MINMAX)\n",
    "\n",
    "            horz = horz.astype('uint8')\n",
    "            vert = vert.astype('uint8')\n",
    "\n",
    "            # horz = horz.reshape(*(horz.shape), 1)\n",
    "            # vert = vert.reshape(*(vert.shape), 1)\n",
    "            #stacking the matrix to get w * l * 2\n",
    "            stacked_matrix = np.stack((horz, vert), axis=2)\n",
    "            # print(\"horz dim\", horz.shape )\n",
    "            # print(\"vert dim\", vert.shape )\n",
    "            # print(\"stacked dim\", stacked_matrix.shape)\n",
    "            if isleak:\n",
    "              cv2.imwrite(os.path.join(pathOut, \"leak.frame%d.horz.jpg\" % count), horz)\n",
    "              cv2.imwrite(os.path.join(pathOut, \"leak.frame%d.vert.jpg\" % count), vert)\n",
    "              label = 1\n",
    "            else:\n",
    "              cv2.imwrite(os.path.join(pathOut, \"nonleak.frame%d.horz.jpg\" % count), horz)\n",
    "              cv2.imwrite(os.path.join(pathOut, \"nonleak.frame%d.vert.jpg\" % count), vert)\n",
    "            # X_design.append(np.array(horz))\n",
    "            # X_design.append(np.array(vert))\n",
    "            X_design.append(stacked_matrix)\n",
    "            prev_frame = next_frame.copy()\n",
    "            count += 1\n",
    "            start += 1\n",
    "          else:\n",
    "            print(\"Error stop at frame:\", count, \"isleak: \", isleak)\n",
    "            break\n",
    "      vidcap.release()\n",
    "    cv2.destroyAllWindows()\n",
    "    return np.stack(X_design, axis=0) \n",
    "  # call helper for both leak and nonleak\n",
    "  X_leak = helper(pathIn, leakPath, leakRange, True)\n",
    "  y_leak = np.ones(X_leak.shape[0])\n",
    "  X_nonleak = helper(pathIn, nonleakPath, nonleakRange, False)\n",
    "  y_nonleak = np.zeros(X_nonleak.shape[0])\n",
    "  # print(\"X_leak dim\", X_leak.shape)\n",
    "  # print(\"X_nonleak dim\", X_nonleak.shape)\n",
    "  X = np.concatenate((X_leak, X_nonleak), axis=0)\n",
    "  y = np.concatenate((y_leak, y_nonleak), axis=0)\n",
    "  \n",
    "  return X, y"
   ]
  },
  {
   "cell_type": "code",
   "execution_count": 5,
   "metadata": {},
   "outputs": [],
   "source": [
    "#MIGHT NEED TO CHANGE SO I DONT REWRITE PREVIOUS STUFF\n",
    "\n",
    "# get generic path to directory\n",
    "dir_path = os.path.dirname(os.path.realpath(\"__file__\"))\n",
    "\n",
    "# get all raw video data directories\n",
    "data_dir = os.path.join(dir_path, 'data')\n",
    "\n",
    "train_data_dir = os.path.join(data_dir, 'train')\n",
    "test_data_dir = os.path.join(data_dir, 'test')\n",
    "\n",
    "frame_data_dir = os.path.join(dir_path, 'frame_data_optical_flow')\n",
    "frame_train_data_dir = os.path.join(frame_data_dir, 'train')\n",
    "frame_test_data_dir = os.path.join(frame_data_dir, 'test')"
   ]
  },
  {
   "cell_type": "code",
   "execution_count": 6,
   "metadata": {},
   "outputs": [],
   "source": [
    "raw_data = np.loadtxt(os.path.join(dir_path, 'leak_range.csv'), skiprows=1, delimiter=',', dtype=int)\n",
    "\n",
    "nonleak_range = dict(zip(raw_data[:, 0], raw_data[:, 1:3]))"
   ]
  },
  {
   "cell_type": "code",
   "execution_count": 7,
   "metadata": {},
   "outputs": [],
   "source": [
    "def read_frames_from_dir(dir_path, output_path, image_dim, max_vids=None):\n",
    "    cur_count = 1\n",
    "    X_train, y_train = np.array([], dtype=np.int64).reshape(0, image_dim[0], image_dim[1], 2), []\n",
    "    for file in os.listdir(dir_path):\n",
    "        if max_vids and cur_count > max_vids:\n",
    "            break\n",
    "        vid_path = os.path.join(dir_path, file)\n",
    "        vid_id = int(os.path.basename(vid_path)[4:8])\n",
    "\n",
    "        nonleak_start = 1\n",
    "        nonleak_end = nonleak_range[vid_id][0]\n",
    "        leak_start = nonleak_end + 1\n",
    "        leak_end = nonleak_range[vid_id][1]\n",
    "\n",
    "        X_vid, y_vid = extractImages(vid_path, output_path, (leak_start, leak_end), (nonleak_start, nonleak_end))\n",
    "        # print(\"X_vid dim\", X_vid.shape)\n",
    "        X_train = np.concatenate((X_train, X_vid), axis=0)\n",
    "        y_train.append(y_vid)\n",
    "        print('Done with', cur_count, \"videos\")\n",
    "        cur_count += 1\n",
    "    y_train = np.concatenate(y_train, axis=0) # improve time complexity\n",
    "    return X_train, y_train"
   ]
  },
  {
   "cell_type": "code",
   "execution_count": 8,
   "metadata": {},
   "outputs": [
    {
     "name": "stdout",
     "output_type": "stream",
     "text": [
      "Done with 1 videos\n",
      "Done with 2 videos\n",
      "Done with 3 videos\n",
      "Done with 4 videos\n",
      "Done with 5 videos\n",
      "Done with 6 videos\n",
      "Done with 7 videos\n",
      "Done with 8 videos\n",
      "Done with 9 videos\n",
      "Done with 10 videos\n",
      "Done with Training Data\n",
      "Done with 1 videos\n",
      "Done with 2 videos\n",
      "Done with 3 videos\n",
      "Done with 4 videos\n",
      "Done with Testing Data\n"
     ]
    },
    {
     "data": {
      "text/plain": [
       "((15091, 240, 320, 2), (15091,), (5939, 240, 320, 2), (5939,))"
      ]
     },
     "execution_count": 8,
     "metadata": {},
     "output_type": "execute_result"
    }
   ],
   "source": [
    "image_dim = (240, 320)\n",
    "vid_count = 10 #max 18\n",
    "test_count = 4 #max 13\n",
    "\n",
    "X_train, y_train = read_frames_from_dir(train_data_dir, frame_train_data_dir, image_dim, vid_count)\n",
    "print(\"Done with Training Data\")\n",
    "X_test, y_test = read_frames_from_dir(test_data_dir, frame_test_data_dir, image_dim, test_count)\n",
    "print(\"Done with Testing Data\")\n",
    "\n",
    "X_train.shape, y_train.shape, X_test.shape, y_test.shape"
   ]
  },
  {
   "cell_type": "code",
   "execution_count": 9,
   "metadata": {},
   "outputs": [
    {
     "name": "stdout",
     "output_type": "stream",
     "text": [
      "Model: \"sequential\"\n",
      "_________________________________________________________________\n",
      " Layer (type)                Output Shape              Param #   \n",
      "=================================================================\n",
      " conv2d (Conv2D)             (None, 238, 318, 4)       76        \n",
      "                                                                 \n",
      " batch_normalization (BatchN  (None, 238, 318, 4)      16        \n",
      " ormalization)                                                   \n",
      "                                                                 \n",
      " re_lu (ReLU)                (None, 238, 318, 4)       0         \n",
      "                                                                 \n",
      " max_pooling2d (MaxPooling2D  (None, 119, 159, 4)      0         \n",
      " )                                                               \n",
      "                                                                 \n",
      " dropout (Dropout)           (None, 119, 159, 4)       0         \n",
      "                                                                 \n",
      " conv2d_1 (Conv2D)           (None, 117, 157, 8)       296       \n",
      "                                                                 \n",
      " batch_normalization_1 (Batc  (None, 117, 157, 8)      32        \n",
      " hNormalization)                                                 \n",
      "                                                                 \n",
      " re_lu_1 (ReLU)              (None, 117, 157, 8)       0         \n",
      "                                                                 \n",
      " max_pooling2d_1 (MaxPooling  (None, 58, 78, 8)        0         \n",
      " 2D)                                                             \n",
      "                                                                 \n",
      " dropout_1 (Dropout)         (None, 58, 78, 8)         0         \n",
      "                                                                 \n",
      " flatten (Flatten)           (None, 36192)             0         \n",
      "                                                                 \n",
      " dense (Dense)               (None, 2400)              86863200  \n",
      "                                                                 \n",
      " dense_1 (Dense)             (None, 1)                 2401      \n",
      "                                                                 \n",
      "=================================================================\n",
      "Total params: 86,866,021\n",
      "Trainable params: 86,865,997\n",
      "Non-trainable params: 24\n",
      "_________________________________________________________________\n"
     ]
    }
   ],
   "source": [
    "#only need to change the input_shape as it will be 240 * 320 * 2\n",
    "from keras import layers \n",
    "from keras import models \n",
    "\n",
    "model = models.Sequential() \n",
    "\n",
    "# Conv Pool 1\n",
    "model.add(layers.Conv2D(4, (3, 3), input_shape=(240, 320, 2)))\n",
    "model.add(layers.BatchNormalization())\n",
    "model.add(layers.ReLU())\n",
    "model.add(layers.MaxPooling2D((2, 2)))\n",
    "model.add(layers.Dropout(0.25))\n",
    "\n",
    "# Conv Pool 2\n",
    "model.add(layers.Conv2D(8, (3, 3)))\n",
    "model.add(layers.BatchNormalization())\n",
    "model.add(layers.ReLU())\n",
    "model.add(layers.MaxPooling2D((2, 2)))\n",
    "model.add(layers.Dropout(0.25))\n",
    "\n",
    "model.add(layers.Flatten())\n",
    "\n",
    "model.add(layers.Dense(2400, activation='relu')) \n",
    "# model.add(layers.Dropout(0.25))\n",
    "model.add(layers.Dense(1, activation='sigmoid')) \n",
    "\n",
    "model.summary()\n"
   ]
  },
  {
   "cell_type": "code",
   "execution_count": 10,
   "metadata": {},
   "outputs": [],
   "source": [
    "from keras import optimizers \n",
    "import keras.backend as K\n",
    "\n",
    "def get_f1(y_true, y_pred): #taken from old keras source code\n",
    "    true_positives = K.sum(K.round(K.clip(y_true * y_pred, 0, 1)))\n",
    "    possible_positives = K.sum(K.round(K.clip(y_true, 0, 1)))\n",
    "    predicted_positives = K.sum(K.round(K.clip(y_pred, 0, 1)))\n",
    "    precision = true_positives / (predicted_positives + K.epsilon())\n",
    "    recall = true_positives / (possible_positives + K.epsilon())\n",
    "    f1_val = 2*(precision*recall)/(precision+recall+K.epsilon())\n",
    "    return f1_val\n",
    "\n",
    "model.compile(loss='binary_crossentropy', optimizer=optimizers.SGD(learning_rate=1e-4), metrics=[get_f1])"
   ]
  },
  {
   "cell_type": "code",
   "execution_count": 11,
   "metadata": {},
   "outputs": [],
   "source": [
    "val_split = 0.2\n",
    "X_t, X_v, y_t, y_v = train_test_split(X_train, y_train, test_size=val_split, stratify=y_train)\n",
    "\n",
    "X = np.concatenate((X_t, X_v))\n",
    "y = np.concatenate((y_t, y_v))"
   ]
  },
  {
   "cell_type": "code",
   "execution_count": 12,
   "metadata": {},
   "outputs": [
    {
     "data": {
      "text/plain": [
       "{0: 3.9197402597402595, 1: 0.5731049673401185}"
      ]
     },
     "execution_count": 12,
     "metadata": {},
     "output_type": "execute_result"
    }
   ],
   "source": [
    "nonleaks = len(y) - sum(y)\n",
    "leaks = sum(y)\n",
    "total = len(y)\n",
    "\n",
    "weight_nonleak = (1 / nonleaks) * (total / 2.0)\n",
    "weight_leak = (1 / leaks) * (total / 2.0)\n",
    "\n",
    "class_weight = {0: weight_nonleak, 1: weight_leak}\n",
    "class_weight"
   ]
  },
  {
   "cell_type": "code",
   "execution_count": 13,
   "metadata": {},
   "outputs": [
    {
     "name": "stderr",
     "output_type": "stream",
     "text": [
      "c:\\Users\\bestlab\\Squishy-Methane-Analysis\\lib\\site-packages\\keras\\preprocessing\\image.py:2092: UserWarning: Expected input to be images (as Numpy array) following the data format convention \"channels_last\" (channels on axis 3), i.e. expected either 1, 3 or 4 channels on axis 3. However, it was passed an array with shape (15091, 240, 320, 2) (2 channels).\n",
      "  warnings.warn(\n",
      "c:\\Users\\bestlab\\Squishy-Methane-Analysis\\lib\\site-packages\\keras\\preprocessing\\image.py:766: UserWarning: NumpyArrayIterator is set to use the data format convention \"channels_last\" (channels on axis 3), i.e. expected either 1, 3, or 4 channels on axis 3. However, it was passed an array with shape (12073, 240, 320, 2) (2 channels).\n",
      "  warnings.warn(\n",
      "c:\\Users\\bestlab\\Squishy-Methane-Analysis\\lib\\site-packages\\keras\\preprocessing\\image.py:766: UserWarning: NumpyArrayIterator is set to use the data format convention \"channels_last\" (channels on axis 3), i.e. expected either 1, 3, or 4 channels on axis 3. However, it was passed an array with shape (3018, 240, 320, 2) (2 channels).\n",
      "  warnings.warn(\n"
     ]
    }
   ],
   "source": [
    "#edited out sample weights need to discuss what we can do with that\n",
    "from keras.preprocessing.image import ImageDataGenerator\n",
    "\n",
    "batch_size = 32\n",
    "\n",
    "# for now, dont do augmentation\n",
    "train_datagen = ImageDataGenerator(\n",
    "    featurewise_center=True,\n",
    "    featurewise_std_normalization=True,\n",
    "    #rescale=1. / 255, already normalizing data in preprocessing\n",
    "    validation_split=val_split,\n",
    "#     horizontal_flip=True,\n",
    "#     shear_range=0.2,\n",
    "#     zoom_range=0.05,\n",
    ")\n",
    "\n",
    "train_datagen.fit(X)\n",
    "\n",
    "train_flow = train_datagen.flow(\n",
    "    X, y, \n",
    "    #sample_weight = X_train_weights,\n",
    "    # target_size=(150, 150), \n",
    "    batch_size=batch_size,\n",
    "    # class_mode='binary',\n",
    "    subset='training'\n",
    ")\n",
    "\n",
    "val_flow = train_datagen.flow(\n",
    "    X, y, \n",
    "    # target_size=(150, 150), \n",
    "    batch_size=batch_size,\n",
    "    # class_mode='binary',\n",
    "    subset='validation'\n",
    ")"
   ]
  },
  {
   "cell_type": "code",
   "execution_count": 14,
   "metadata": {},
   "outputs": [
    {
     "name": "stderr",
     "output_type": "stream",
     "text": [
      "C:\\Users\\bestlab\\AppData\\Local\\Temp\\ipykernel_7260\\3029726651.py:3: UserWarning: `Model.fit_generator` is deprecated and will be removed in a future version. Please use `Model.fit`, which supports generators.\n",
      "  history = model.fit_generator(\n"
     ]
    },
    {
     "name": "stdout",
     "output_type": "stream",
     "text": [
      "Epoch 1/10\n",
      "378/378 [==============================] - 204s 526ms/step - loss: 0.8008 - get_f1: 0.6899 - val_loss: 0.6008 - val_get_f1: 0.7660\n",
      "Epoch 2/10\n",
      "378/378 [==============================] - 197s 522ms/step - loss: 0.6400 - get_f1: 0.7585 - val_loss: 0.4540 - val_get_f1: 0.8462\n",
      "Epoch 3/10\n",
      "378/378 [==============================] - 197s 520ms/step - loss: 0.5830 - get_f1: 0.7838 - val_loss: 0.3918 - val_get_f1: 0.9130\n",
      "Epoch 4/10\n",
      "378/378 [==============================] - 196s 519ms/step - loss: 0.5647 - get_f1: 0.7822 - val_loss: 0.6014 - val_get_f1: 0.7755\n",
      "Epoch 5/10\n",
      "378/378 [==============================] - 196s 519ms/step - loss: 0.5429 - get_f1: 0.7964 - val_loss: 0.5637 - val_get_f1: 0.8000\n",
      "Epoch 6/10\n",
      "378/378 [==============================] - 197s 521ms/step - loss: 0.5153 - get_f1: 0.8071 - val_loss: 0.4689 - val_get_f1: 0.8627\n",
      "Epoch 7/10\n",
      "378/378 [==============================] - 197s 521ms/step - loss: 0.5046 - get_f1: 0.8084 - val_loss: 0.5915 - val_get_f1: 0.8148\n",
      "Epoch 8/10\n",
      "378/378 [==============================] - 197s 520ms/step - loss: 0.4946 - get_f1: 0.8178 - val_loss: 0.4614 - val_get_f1: 0.8800\n",
      "Epoch 9/10\n",
      "378/378 [==============================] - 197s 521ms/step - loss: 0.4916 - get_f1: 0.8167 - val_loss: 0.4424 - val_get_f1: 0.8163\n",
      "Epoch 10/10\n",
      "378/378 [==============================] - 197s 521ms/step - loss: 0.4771 - get_f1: 0.8266 - val_loss: 0.4821 - val_get_f1: 0.8364\n"
     ]
    }
   ],
   "source": [
    "num_epochs = 10\n",
    "\n",
    "history = model.fit_generator(\n",
    "    train_flow, \n",
    "    epochs=num_epochs, \n",
    "    validation_data=val_flow, \n",
    "    validation_steps=1,\n",
    "    class_weight=class_weight\n",
    ")\n",
    "\n",
    "\n",
    "model.save('leak_and_nonleak_roy2.h5')"
   ]
  },
  {
   "cell_type": "code",
   "execution_count": 15,
   "metadata": {},
   "outputs": [
    {
     "data": {
      "image/png": "[encoded data removed]",
      "text/plain": [
       "<Figure size 640x480 with 1 Axes>"
      ]
     },
     "metadata": {},
     "output_type": "display_data"
    },
    {
     "data": {
      "image/png": "[encoded data removed]",
      "text/plain": [
       "<Figure size 640x480 with 1 Axes>"
      ]
     },
     "metadata": {},
     "output_type": "display_data"
    }
   ],
   "source": [
    "import matplotlib.pyplot as plt \n",
    "\n",
    "f1 = history.history['get_f1'] \n",
    "val_f1 = history.history['val_get_f1'] \n",
    "loss = history.history['loss'] \n",
    "val_loss = history.history['val_loss'] \n",
    "\n",
    "epochs = range(1, len(f1) + 1) \n",
    "\n",
    "plt.plot(epochs, f1, 'bo', label='Training F1') \n",
    "plt.plot(epochs, val_f1, 'b', label='Validation F1') \n",
    "plt.title('Training and Validation F1') \n",
    "plt.legend() \n",
    "\n",
    "plt.figure() \n",
    "\n",
    "plt.plot(epochs, loss, 'bo', label='Training loss') \n",
    "plt.plot(epochs, val_loss, 'b', label='Validation loss') \n",
    "plt.title('Training loss and validation loss') \n",
    "plt.legend() \n",
    "\n",
    "plt.show() "
   ]
  },
  {
   "cell_type": "code",
   "execution_count": 17,
   "metadata": {},
   "outputs": [
    {
     "name": "stderr",
     "output_type": "stream",
     "text": [
      "c:\\Users\\bestlab\\Squishy-Methane-Analysis\\lib\\site-packages\\keras\\preprocessing\\image.py:766: UserWarning: NumpyArrayIterator is set to use the data format convention \"channels_last\" (channels on axis 3), i.e. expected either 1, 3, or 4 channels on axis 3. However, it was passed an array with shape (5939, 240, 320, 2) (2 channels).\n",
      "  warnings.warn(\n"
     ]
    }
   ],
   "source": [
    "test_datagen = ImageDataGenerator(\n",
    "    featurewise_center=True,\n",
    "    featurewise_std_normalization=True,\n",
    "    #rescale=1. / 255,\n",
    ")\n",
    "\n",
    "test_datagen.fit(X_test)\n",
    "\n",
    "test_flow = test_datagen.flow(\n",
    "    X_test,\n",
    "    batch_size=batch_size,\n",
    "    shuffle=False,\n",
    "    \n",
    ")"
   ]
  },
  {
   "cell_type": "code",
   "execution_count": 18,
   "metadata": {},
   "outputs": [
    {
     "name": "stdout",
     "output_type": "stream",
     "text": [
      "186/186 [==============================] - 25s 124ms/step\n"
     ]
    }
   ],
   "source": [
    "predictions = model.predict(test_flow)"
   ]
  },
  {
   "cell_type": "code",
   "execution_count": 19,
   "metadata": {},
   "outputs": [],
   "source": [
    "processed_preds = (predictions >= 0.5).flatten().astype(int)"
   ]
  },
  {
   "cell_type": "code",
   "execution_count": 20,
   "metadata": {},
   "outputs": [
    {
     "name": "stdout",
     "output_type": "stream",
     "text": [
      "Test Accuracy is 0.5413369254083179 after training for 10 epochs on 5939 test images\n"
     ]
    }
   ],
   "source": [
    "test_acc = np.sum(processed_preds == y_test) / len(y_test)\n",
    "print(f'Test Accuracy is {test_acc} after training for {num_epochs} epochs on {len(y_test)} test images')"
   ]
  },
  {
   "cell_type": "code",
   "execution_count": 21,
   "metadata": {},
   "outputs": [
    {
     "name": "stdout",
     "output_type": "stream",
     "text": [
      "Leak Test accuracy is 0.5593677717810331 after training for 10 epochs on 5188 leak test images\n",
      "Non-Leak Test accuracy is 0.4167776298268975 after training for 10 epochs on 751 non-leak test images\n"
     ]
    }
   ],
   "source": [
    "leak_indices = [i for i in range(len(y_test)) if y_test[i] == 1]\n",
    "nonleak_indices = [i for i in range(len(y_test)) if y_test[i] == 0]\n",
    "leak_predictions, leak_y_test = processed_preds[leak_indices], y_test[leak_indices]\n",
    "nonleak_predictions, nonleak_y_test = processed_preds[nonleak_indices], y_test[nonleak_indices]\n",
    "\n",
    "leak_test_acc = np.sum(leak_predictions == leak_y_test) / len(leak_y_test)\n",
    "nonleak_test_acc = np.sum(nonleak_predictions == nonleak_y_test) / len(nonleak_y_test)\n",
    "print(f'Leak Test accuracy is {leak_test_acc} after training for {num_epochs} epochs on {len(leak_y_test)} leak test images')\n",
    "print(f'Non-Leak Test accuracy is {nonleak_test_acc} after training for {num_epochs} epochs on {len(nonleak_y_test)} non-leak test images')\n"
   ]
  }
 ],
 "metadata": {
  "kernelspec": {
   "display_name": "Squishy-Methane-Analysis",
   "language": "python",
   "name": "python3"
  },
  "language_info": {
   "codemirror_mode": {
    "name": "ipython",
    "version": 3
   },
   "file_extension": ".py",
   "mimetype": "text/x-python",
   "name": "python",
   "nbconvert_exporter": "python",
   "pygments_lexer": "ipython3",
   "version": "3.10.0"
  },
  "orig_nbformat": 4
 },
 "nbformat": 4,
 "nbformat_minor": 2
}
