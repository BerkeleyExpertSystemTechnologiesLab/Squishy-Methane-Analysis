{
  "cells": [
    {
      "cell_type": "markdown",
      "metadata": {
        "id": "F_-w0DYiVX7g"
      },
      "source": [
        "### This is a Pytorch version of the work, for easier time working with ViT"
      ]
    },
    {
      "cell_type": "markdown",
      "metadata": {
        "id": "qSgTfcIPVX7l"
      },
      "source": [
        "# Step 1: Load and Preprocess the Dataset\n",
        "\n",
        "### Load the GasVid dataset\n",
        "### Preprocess the data\n",
        "### Split the dataset into training and test sets"
      ]
    },
    {
      "cell_type": "code",
      "execution_count": 3,
      "metadata": {},
      "outputs": [],
      "source": [
        "%%capture\n",
        "%pip install --upgrade pip\n",
        "%pip install -r ../requirements.txt"
      ]
    },
    {
      "cell_type": "code",
      "execution_count": null,
      "metadata": {},
      "outputs": [],
      "source": [
        "# if apple and want MPS acceleration do this\n",
        "# %%capture\n",
        "# %pip install --pre torch torchvision torchaudio --index-url https://download.pytorch.org/whl/nightly/cpu"
      ]
    },
    {
      "cell_type": "code",
      "execution_count": 1,
      "metadata": {
        "executionInfo": {
          "elapsed": 10680,
          "status": "ok",
          "timestamp": 1696464635710,
          "user": {
            "displayName": "Angeline Lee",
            "userId": "12532490570362671000"
          },
          "user_tz": 420
        },
        "id": "JObjEqgBVX7n"
      },
      "outputs": [
        {
          "name": "stderr",
          "output_type": "stream",
          "text": [
            "2023-10-11 23:53:42.621286: E tensorflow/compiler/xla/stream_executor/cuda/cuda_dnn.cc:9342] Unable to register cuDNN factory: Attempting to register factory for plugin cuDNN when one has already been registered\n",
            "2023-10-11 23:53:42.621317: E tensorflow/compiler/xla/stream_executor/cuda/cuda_fft.cc:609] Unable to register cuFFT factory: Attempting to register factory for plugin cuFFT when one has already been registered\n",
            "2023-10-11 23:53:42.621336: E tensorflow/compiler/xla/stream_executor/cuda/cuda_blas.cc:1518] Unable to register cuBLAS factory: Attempting to register factory for plugin cuBLAS when one has already been registered\n",
            "2023-10-11 23:53:42.625798: I tensorflow/core/platform/cpu_feature_guard.cc:182] This TensorFlow binary is optimized to use available CPU instructions in performance-critical operations.\n",
            "To enable the following instructions: AVX2 FMA, in other operations, rebuild TensorFlow with the appropriate compiler flags.\n"
          ]
        }
      ],
      "source": [
        "# Imports\n",
        "\n",
        "import os\n",
        "import numpy as np\n",
        "import matplotlib.pyplot as plt\n",
        "import cv2\n",
        "import torch\n",
        "import torch.nn as nn\n",
        "from torchvision import transforms\n",
        "from transformers import ViTForImageClassification, ViTImageProcessor, ViTConfig\n",
        "from torch.utils.data import DataLoader, Dataset, Subset\n",
        "from tqdm.notebook import tqdm\n",
        "\n",
        "from sklearn.metrics import RocCurveDisplay, roc_curve, ConfusionMatrixDisplay, confusion_matrix\n",
        "\n",
        "from sklearn.mixture import GaussianMixture\n"
      ]
    },
    {
      "cell_type": "code",
      "execution_count": 2,
      "metadata": {
        "id": "P5AqjEqiVX7o"
      },
      "outputs": [],
      "source": [
        "# Helper Functions\n",
        "\n",
        "def calc_median(frames):\n",
        "    median_frame = np.median(frames, axis=0).astype(dtype=np.uint8)\n",
        "    return median_frame\n",
        "\n",
        "def doMovingAverageBGS(image, prev_frames):\n",
        "    median_img = calc_median(prev_frames)\n",
        "    image = cv2.absdiff(image, median_img)\n",
        "    return image\n",
        "\n",
        "def calc_avg(frames):\n",
        "  average_frame = np.mean(frames).astype(dtype=np.uint8)\n",
        "  return average_frame\n",
        "\n",
        "# Try Fixed background substraction\n",
        "def doFixedBGS(image, init_frames):\n",
        "  init_img = calc_avg(init_frames)\n",
        "  image = cv2.absdiff(image, init_img)\n",
        "  return image\n",
        "\n",
        "# Try Mixture of Gaussian-Based (MOG) background substraction\n",
        "def doMOGBGS(image, all_frames):\n",
        "  gmm = GaussianMixture(n_components = 2)\n",
        "  gmm_background = np.zeros(shape=(all_frames.shape[1:]))\n",
        "  for i in range(all_frames.shape[1]):\n",
        "      for j in range(all_frames.shape[2]):\n",
        "          for k in range(all_frames.shape[3]):\n",
        "              X = all_frames[:, i, j, k]\n",
        "              X = X.reshape(X.shape[0], 1)\n",
        "              gmm.fit(X)\n",
        "              means = gmm.means_\n",
        "              covars = gmm.covariances_\n",
        "              weights = gmm.weights_\n",
        "              idx = np.argmax(weights)\n",
        "              gmm_background[i][j][k] = int(means[idx])\n",
        "  image = cv2.absdiff(image, gmm_background)\n",
        "  return image"
      ]
    },
    {
      "cell_type": "code",
      "execution_count": 3,
      "metadata": {
        "id": "EuSupi3EVX7o"
      },
      "outputs": [],
      "source": [
        "def extractImages(pathIn, pathOut, leakRange, nonleakRange, currCountLeak, currCountNonLeak):\n",
        "\n",
        "  '''\n",
        "  Input:\n",
        "    String: pathIn should be the path of the video\n",
        "    String: pathOut should be the path of the folder where data is being stored for testing or training\n",
        "    Tuple: range of leak frames from video\n",
        "    Tuple: range of nonleak frames from video\n",
        "\n",
        "  Output:\n",
        "    creates two subfolders in pathOut called Leaks and Nonleaks\n",
        "      Leaks folder contains the frames where there are leaks\n",
        "      Nonleaks folder contains the frames where there are noleaks\n",
        "  '''\n",
        "\n",
        "  leakPath = os.path.join(pathOut, \"Leak\")\n",
        "  nonleakPath = os.path.join(pathOut, \"Nonleaks\")\n",
        "\n",
        "  os.makedirs(leakPath, exist_ok=True)\n",
        "  os.makedirs(nonleakPath, exist_ok=True)\n",
        "\n",
        "  def helper(pathIn, pathOut, range, isLeak, currCountLeak, currCountNonLeak):\n",
        "    '''\n",
        "    Might need to clean this up, but this was extracted from the original extractImages from the previous implementation\n",
        "\n",
        "    '''\n",
        "    #setting up moving average list\n",
        "    prev_imgs = []\n",
        "    prev_limit = 210 #210 in paper\n",
        "\n",
        "    start = range[0] * 1000 # converting seconds to milliseconds\n",
        "    end = range[1] * 1000\n",
        "    cap = cv2.VideoCapture(pathIn)\n",
        "    cap.set(cv2.CAP_PROP_POS_MSEC, start)\n",
        "    success = True\n",
        "\n",
        "    if cap.isOpened():\n",
        "      while success and start < end:\n",
        "          success, image = cap.read()\n",
        "          if success:\n",
        "            image = cv2.cvtColor(image, cv2.COLOR_BGR2GRAY)\n",
        "            start = cap.get(cv2.CAP_PROP_POS_MSEC)\n",
        "            prev_imgs.append(image)\n",
        "            if len(prev_imgs) > prev_limit:\n",
        "                prev_imgs.pop(0)\n",
        "\n",
        "            processed_img = doMovingAverageBGS(image, prev_imgs) #to generalize might need to make this function as a parameter\n",
        "\n",
        "            if isLeak:\n",
        "                cv2.imwrite(os.path.join(pathOut, \"leak.frame%d.jpg\" % currCountLeak), processed_img)     # save frame as JPEG file\n",
        "                currCountLeak += 1\n",
        "            else:\n",
        "                cv2.imwrite(os.path.join(pathOut, \"nonleak.frame%d.jpg\" % currCountNonLeak), processed_img)\n",
        "                currCountNonLeak += 1\n",
        "          else:\n",
        "            break\n",
        "      cap.release()\n",
        "    cv2.destroyAllWindows()\n",
        "    if isLeak:\n",
        "       return currCountLeak\n",
        "    else:\n",
        "       return currCountNonLeak\n",
        "  # call helper for both nonLeak and leak and get updated counts\n",
        "  updated_currCountNonLeak = helper(pathIn, nonleakPath, nonleakRange, isLeak=False, currCountLeak=currCountLeak, currCountNonLeak=currCountNonLeak)\n",
        "  updated_currCountLeak = helper(pathIn, leakPath, leakRange, isLeak=True,currCountLeak=currCountLeak, currCountNonLeak=currCountNonLeak)\n",
        "\n",
        "  return updated_currCountNonLeak, updated_currCountLeak"
      ]
    },
    {
      "cell_type": "markdown",
      "metadata": {
        "id": "3-rMPE8CVX7p"
      },
      "source": [
        "### Setting up Directories"
      ]
    },
    {
      "cell_type": "code",
      "execution_count": 4,
      "metadata": {
        "id": "xA87iKePVX7p"
      },
      "outputs": [],
      "source": [
        "# get generic path to directory\n",
        "dir_path = os.path.dirname(os.path.realpath(\"__file__\"))\n",
        "\n",
        "# get all raw video data directories\n",
        "data_dir = os.path.join(dir_path, 'data')\n",
        "\n",
        "train_data_dir = os.path.join(data_dir, 'train')\n",
        "test_data_dir = os.path.join(data_dir, 'test')\n",
        "\n",
        "frame_data_dir = os.path.join(dir_path, 'frame_data_movingAvg')\n",
        "frame_train_data_dir = os.path.join(frame_data_dir, 'train')\n",
        "frame_test_data_dir = os.path.join(frame_data_dir, 'test')\n"
      ]
    },
    {
      "cell_type": "markdown",
      "metadata": {
        "id": "55RvfvVKVX7q"
      },
      "source": [
        "### Setting Up Ranges for Each Video In GasVid (Excluding 18.6m and 8.8m)"
      ]
    },
    {
      "cell_type": "code",
      "execution_count": 5,
      "metadata": {
        "colab": {
          "base_uri": "https://localhost:8080/"
        },
        "executionInfo": {
          "elapsed": 160,
          "status": "ok",
          "timestamp": 1695939634949,
          "user": {
            "displayName": "Zhuoyi Jin",
            "userId": "15256655862188224441"
          },
          "user_tz": 420
        },
        "id": "Rk9e28D5VX7q",
        "outputId": "62923369-9bf7-4dd2-ef9d-4723dd611916"
      },
      "outputs": [
        {
          "data": {
            "text/plain": [
              "25"
            ]
          },
          "execution_count": 5,
          "metadata": {},
          "output_type": "execute_result"
        }
      ],
      "source": [
        "raw_data = np.loadtxt(os.path.join(dir_path, 'GasVid_Ranges_Seconds.csv'), skiprows=1, delimiter=',', dtype=int)\n",
        "\n",
        "ranges = list(zip(raw_data[:, 0], raw_data[:, 1:3], raw_data[:, 3:5])) #need to upload new ranges\n",
        "ranges = {ranges[i][0] : (ranges[i][1], ranges[i][2]) for i in range(len(ranges))}\n",
        "len(ranges)"
      ]
    },
    {
      "cell_type": "code",
      "execution_count": 6,
      "metadata": {
        "id": "rzKc3Im2VX7q"
      },
      "outputs": [],
      "source": [
        "import re\n",
        "def read_frames_from_dir(dir_path, output_path, max_vids=None):\n",
        "    cur_count = 1\n",
        "    currNonLeakCount = 0\n",
        "    currLeakCount = 0\n",
        "\n",
        "    for file in os.listdir(dir_path):\n",
        "        if max_vids and cur_count > max_vids:\n",
        "            break\n",
        "        vid_path = os.path.join(dir_path, file)\n",
        "        vid_id = int(re.findall(\"_(\\d{4}).mp4\",os.path.basename(vid_path))[0])\n",
        "        # vid_id = int(os.path.basename(vid_path)[4:8])\n",
        "        if vid_id not in ranges.keys():\n",
        "            continue\n",
        "\n",
        "        nonleak_start = ranges[vid_id][0][0]\n",
        "        nonleak_end = ranges[vid_id][0][1]\n",
        "        leak_start = ranges[vid_id][1][0]\n",
        "        leak_end = ranges[vid_id][1][1]\n",
        "\n",
        "        currNonLeakCount, currLeakCount = extractImages(vid_path, output_path, (leak_start, leak_end), (nonleak_start, nonleak_end), currLeakCount, currNonLeakCount)\n",
        "        print(\"Video\", vid_id)\n",
        "        print(\"Current NonLeak Count\", currNonLeakCount)\n",
        "        print(\"Current Leak Count\", currLeakCount)\n",
        "\n",
        "        print('Done with', cur_count, \"video(s)\")\n",
        "        cur_count += 1\n",
        "    return currNonLeakCount, currLeakCount"
      ]
    },
    {
      "cell_type": "markdown",
      "metadata": {
        "id": "uwswcfKsVX7q"
      },
      "source": [
        "### Reading Frames from Data Directory and Setting Them in Frame Data Directory"
      ]
    },
    {
      "cell_type": "code",
      "execution_count": 8,
      "metadata": {
        "colab": {
          "base_uri": "https://localhost:8080/",
          "height": 394
        },
        "executionInfo": {
          "elapsed": 3260,
          "status": "error",
          "timestamp": 1695935836295,
          "user": {
            "displayName": "Zhuoyi Jin",
            "userId": "15256655862188224441"
          },
          "user_tz": 420
        },
        "id": "pMjN0VGOVX7r",
        "outputId": "e9870ba2-25a9-4766-ec11-bc89f4b32be0"
      },
      "outputs": [
        {
          "name": "stdout",
          "output_type": "stream",
          "text": [
            "Video 2570\n",
            "Current NonLeak Count 2386\n",
            "Current Leak Count 18475\n",
            "Done with 1 video(s)\n",
            "Video 2564\n",
            "Current NonLeak Count 4774\n",
            "Current Leak Count 36946\n",
            "Done with 2 video(s)\n",
            "Video 2559\n",
            "Current NonLeak Count 7160\n",
            "Current Leak Count 55410\n",
            "Done with 3 video(s)\n",
            "Video 2567\n",
            "Current NonLeak Count 9545\n",
            "Current Leak Count 73896\n",
            "Done with 4 video(s)\n",
            "Done with Training Data\n",
            "Video 1469\n",
            "Current NonLeak Count 2384\n",
            "Current Leak Count 18485\n",
            "Done with 1 video(s)\n",
            "Video 1468\n",
            "Current NonLeak Count 4771\n",
            "Current Leak Count 36972\n",
            "Done with 2 video(s)\n",
            "Done with Testing Data\n"
          ]
        }
      ],
      "source": [
        "image_dim = (240, 320)\n",
        "vid_count = None # Smaller on local computer to limit computer resources #max =>15\n",
        "\n",
        "test_count = None #Smaller on local computer to limit computer resources #max =>10\n",
        "total_train_NonLeak, total_train_Leak = read_frames_from_dir(train_data_dir, frame_train_data_dir, vid_count)\n",
        "print(\"Done with Training Data\")\n",
        "total_test_NonLeak, total_test_Leak = read_frames_from_dir(test_data_dir, frame_test_data_dir, test_count)\n",
        "print(\"Done with Testing Data\")"
      ]
    },
    {
      "cell_type": "code",
      "execution_count": 7,
      "metadata": {
        "id": "8oyYtwX4VX7r"
      },
      "outputs": [
        {
          "ename": "NameError",
          "evalue": "name 'total_train_NonLeak' is not defined",
          "output_type": "error",
          "traceback": [
            "\u001b[0;31m---------------------------------------------------------------------------\u001b[0m",
            "\u001b[0;31mNameError\u001b[0m                                 Traceback (most recent call last)",
            "\u001b[1;32m/home/bestlab/Desktop/Squishy-Methane-Analysis/MethaneModel/Gas-ViT.ipynb Cell 15\u001b[0m line \u001b[0;36m1\n\u001b[0;32m----> <a href='vscode-notebook-cell://ssh-remote%2Bbestlab/home/bestlab/Desktop/Squishy-Methane-Analysis/MethaneModel/Gas-ViT.ipynb#X20sdnNjb2RlLXJlbW90ZQ%3D%3D?line=0'>1</a>\u001b[0m \u001b[39mprint\u001b[39m(\u001b[39m\"\u001b[39m\u001b[39mTotal NonLeak Count\u001b[39m\u001b[39m\"\u001b[39m, total_train_NonLeak \u001b[39m+\u001b[39m total_test_NonLeak)\n\u001b[1;32m      <a href='vscode-notebook-cell://ssh-remote%2Bbestlab/home/bestlab/Desktop/Squishy-Methane-Analysis/MethaneModel/Gas-ViT.ipynb#X20sdnNjb2RlLXJlbW90ZQ%3D%3D?line=1'>2</a>\u001b[0m \u001b[39mprint\u001b[39m(\u001b[39m\"\u001b[39m\u001b[39mTotal Leak Count\u001b[39m\u001b[39m\"\u001b[39m, total_train_Leak \u001b[39m+\u001b[39m total_test_Leak)\n",
            "\u001b[0;31mNameError\u001b[0m: name 'total_train_NonLeak' is not defined"
          ]
        }
      ],
      "source": [
        "print(\"Total NonLeak Count\", total_train_NonLeak + total_test_NonLeak)\n",
        "print(\"Total Leak Count\", total_train_Leak + total_test_Leak)"
      ]
    },
    {
      "cell_type": "markdown",
      "metadata": {},
      "source": [
        "# Step 2: Create Dataset for Ingesting Image Frames"
      ]
    },
    {
      "cell_type": "code",
      "execution_count": 7,
      "metadata": {},
      "outputs": [],
      "source": [
        "class MultiClassVideoFrameDataset(Dataset):\n",
        "    def __init__(self, root_dir, transform=None, processor=None):\n",
        "        self.root_dir = root_dir\n",
        "        self.transform = transform\n",
        "        self.processor = processor\n",
        "        self.classes = os.listdir(root_dir)  # Get class names from subdirectories\n",
        "\n",
        "        self.frames = []\n",
        "        self.labels = []\n",
        "\n",
        "        for class_idx, class_name in enumerate(self.classes):\n",
        "            class_dir = os.path.join(self.root_dir, class_name)\n",
        "            frame_list = [os.path.join(class_dir, file) for file in os.listdir(class_dir) if file.endswith(('.jpg', '.png', '.jpeg'))]\n",
        "            self.frames.extend(frame_list)\n",
        "            self.labels.extend([class_idx] * len(frame_list))\n",
        "\n",
        "    def __len__(self):\n",
        "        return len(self.frames)\n",
        "\n",
        "    def __getitem__(self, idx):\n",
        "        frame_path = self.frames[idx]\n",
        "        image = cv2.imread(frame_path)\n",
        "        # image = cv2.cvtColor(image, cv2.COLOR_BGR2RGB)  # Convert BGR to RGB\n",
        "\n",
        "        if self.transform:\n",
        "            image = self.transform(image)\n",
        "        \n",
        "        if self.processor:\n",
        "            image = self.processor.preprocess(image, return_tensors=\"pt\")\n",
        "\n",
        "        label = self.labels[idx]\n",
        "\n",
        "        return image, label"
      ]
    },
    {
      "cell_type": "code",
      "execution_count": 8,
      "metadata": {},
      "outputs": [],
      "source": [
        "image_processor = ViTImageProcessor(\n",
        "    \"google/vit-base-patch16-224\",\n",
        "    do_normalize=True,\n",
        "    max_size=384,\n",
        "    pad_to_max_size=True\n",
        ")"
      ]
    },
    {
      "cell_type": "code",
      "execution_count": 9,
      "metadata": {},
      "outputs": [],
      "source": [
        "# define some transforms\n",
        "transform = transforms.Compose([\n",
        "])"
      ]
    },
    {
      "cell_type": "code",
      "execution_count": 10,
      "metadata": {},
      "outputs": [],
      "source": [
        "full_train_dataset = MultiClassVideoFrameDataset(root_dir=frame_train_data_dir, transform=transform, processor=image_processor)\n",
        "test_dataset = MultiClassVideoFrameDataset(root_dir=frame_test_data_dir, transform=transform, processor=image_processor)\n",
        "\n",
        "# Define the percentage of data to use for validation\n",
        "validation_split = 0.2  # Adjust this as needed\n",
        "\n",
        "# Calculate the number of samples for the validation set\n",
        "num_samples = len(full_train_dataset)\n",
        "num_val_samples = int(validation_split * num_samples)\n",
        "num_train_samples = num_samples - num_val_samples\n",
        "\n",
        "# Create a list of indices for the full dataset\n",
        "indices = list(range(num_samples))\n",
        "\n",
        "# Use random sampling to split the indices into train and validation indices\n",
        "val_indices = torch.randperm(num_samples)[:num_val_samples]\n",
        "train_indices = list(set(indices) - set(val_indices))\n",
        "\n",
        "# Create Subset objects for train and validation\n",
        "train_dataset = Subset(full_train_dataset, train_indices)\n",
        "val_dataset = Subset(full_train_dataset, val_indices)\n",
        "\n",
        "train_dataloader = DataLoader(train_dataset, batch_size=32, shuffle=True)\n",
        "val_dataloader = DataLoader(val_dataset, batch_size=32, shuffle=False)\n",
        "test_dataloader = DataLoader(test_dataset, batch_size=32, shuffle=False)"
      ]
    },
    {
      "cell_type": "code",
      "execution_count": 11,
      "metadata": {},
      "outputs": [
        {
          "data": {
            "text/plain": [
              "584636"
            ]
          },
          "execution_count": 11,
          "metadata": {},
          "output_type": "execute_result"
        }
      ],
      "source": [
        "len(full_train_dataset) + len(test_dataset)"
      ]
    },
    {
      "cell_type": "markdown",
      "metadata": {
        "id": "6RAi_buLVX7r"
      },
      "source": [
        "# Step 3: Build the GasViT Architecture\n",
        "\n",
        "### Define the GasNet architecture (GasNet-2 as mentioned in the paper)\n",
        "### Implement the model using TensorFlow/Keras"
      ]
    },
    {
      "cell_type": "code",
      "execution_count": 12,
      "metadata": {},
      "outputs": [
        {
          "data": {
            "text/plain": [
              "device(type='cuda')"
            ]
          },
          "execution_count": 12,
          "metadata": {},
          "output_type": "execute_result"
        }
      ],
      "source": [
        "device = torch.device('cuda' if torch.cuda.is_available() else 'cpu')\n",
        "device\n",
        "# model.to(device)"
      ]
    },
    {
      "cell_type": "code",
      "execution_count": 13,
      "metadata": {},
      "outputs": [],
      "source": [
        "configs = ViTConfig(\n",
        "    hidden_dropout_prob=0.5,\n",
        "    attention_probs_dropout_prob=0.2\n",
        ")"
      ]
    },
    {
      "cell_type": "code",
      "execution_count": 14,
      "metadata": {},
      "outputs": [
        {
          "name": "stderr",
          "output_type": "stream",
          "text": [
            "Some weights of ViTForImageClassification were not initialized from the model checkpoint at google/vit-base-patch16-224 and are newly initialized because the shapes did not match:\n",
            "- classifier.bias: found shape torch.Size([1000]) in the checkpoint and torch.Size([2]) in the model instantiated\n",
            "- classifier.weight: found shape torch.Size([1000, 768]) in the checkpoint and torch.Size([2, 768]) in the model instantiated\n",
            "You should probably TRAIN this model on a down-stream task to be able to use it for predictions and inference.\n"
          ]
        },
        {
          "data": {
            "text/plain": [
              "ViTForImageClassification(\n",
              "  (vit): ViTModel(\n",
              "    (embeddings): ViTEmbeddings(\n",
              "      (patch_embeddings): ViTPatchEmbeddings(\n",
              "        (projection): Conv2d(3, 768, kernel_size=(16, 16), stride=(16, 16))\n",
              "      )\n",
              "      (dropout): Dropout(p=0.5, inplace=False)\n",
              "    )\n",
              "    (encoder): ViTEncoder(\n",
              "      (layer): ModuleList(\n",
              "        (0-11): 12 x ViTLayer(\n",
              "          (attention): ViTAttention(\n",
              "            (attention): ViTSelfAttention(\n",
              "              (query): Linear(in_features=768, out_features=768, bias=True)\n",
              "              (key): Linear(in_features=768, out_features=768, bias=True)\n",
              "              (value): Linear(in_features=768, out_features=768, bias=True)\n",
              "              (dropout): Dropout(p=0.2, inplace=False)\n",
              "            )\n",
              "            (output): ViTSelfOutput(\n",
              "              (dense): Linear(in_features=768, out_features=768, bias=True)\n",
              "              (dropout): Dropout(p=0.5, inplace=False)\n",
              "            )\n",
              "          )\n",
              "          (intermediate): ViTIntermediate(\n",
              "            (dense): Linear(in_features=768, out_features=3072, bias=True)\n",
              "            (intermediate_act_fn): GELUActivation()\n",
              "          )\n",
              "          (output): ViTOutput(\n",
              "            (dense): Linear(in_features=3072, out_features=768, bias=True)\n",
              "            (dropout): Dropout(p=0.5, inplace=False)\n",
              "          )\n",
              "          (layernorm_before): LayerNorm((768,), eps=1e-12, elementwise_affine=True)\n",
              "          (layernorm_after): LayerNorm((768,), eps=1e-12, elementwise_affine=True)\n",
              "        )\n",
              "      )\n",
              "    )\n",
              "    (layernorm): LayerNorm((768,), eps=1e-12, elementwise_affine=True)\n",
              "  )\n",
              "  (classifier): Linear(in_features=768, out_features=2, bias=True)\n",
              ")"
            ]
          },
          "execution_count": 14,
          "metadata": {},
          "output_type": "execute_result"
        }
      ],
      "source": [
        "# Initialize the ViT feature extractor and model\n",
        "model = ViTForImageClassification.from_pretrained('google/vit-base-patch16-224', config=configs, ignore_mismatched_sizes=True)\n",
        "model.to(device)"
      ]
    },
    {
      "cell_type": "code",
      "execution_count": 15,
      "metadata": {},
      "outputs": [
        {
          "data": {
            "text/plain": [
              "Linear(in_features=768, out_features=2, bias=True)"
            ]
          },
          "execution_count": 15,
          "metadata": {},
          "output_type": "execute_result"
        }
      ],
      "source": [
        "# Change classifier layer to have num classes consistent with dataset\n",
        "model.classifier.out_features = len(full_train_dataset.classes)\n",
        "model.classifier"
      ]
    },
    {
      "cell_type": "code",
      "execution_count": 16,
      "metadata": {},
      "outputs": [
        {
          "data": {
            "text/plain": [
              "['Leak', 'Nonleaks']"
            ]
          },
          "execution_count": 16,
          "metadata": {},
          "output_type": "execute_result"
        }
      ],
      "source": [
        "train_dataloader.dataset.dataset.classes"
      ]
    },
    {
      "cell_type": "code",
      "execution_count": 17,
      "metadata": {},
      "outputs": [],
      "source": [
        "def train(model, weight=None, num_epochs=10):\n",
        "    criterion = nn.CrossEntropyLoss(weight=weight) # extendable for multiclass classification as well\n",
        "    optimizer = torch.optim.Adam(model.parameters(), lr=1e-4)\n",
        "\n",
        "    # can try out lr scheduler later if needed\n",
        "    # can also try out warmup ratio\n",
        "\n",
        "    for epoch in range(num_epochs):\n",
        "        model.train()\n",
        "        for batch_images, batch_labels in tqdm(train_dataloader):\n",
        "            batch_image_pixels, batch_labels = batch_images.pixel_values.squeeze(1).to(device), batch_labels.to(device)\n",
        "            optimizer.zero_grad()\n",
        "            outputs = model(batch_image_pixels).logits\n",
        "            loss = criterion(outputs, batch_labels)\n",
        "            loss.backward()\n",
        "            optimizer.step()\n",
        "\n",
        "        print(f\"Epoch {epoch + 1}/{num_epochs}, Loss: {loss.item():.4f}\")\n",
        "\n",
        "        model.eval()\n",
        "        accuracy = 0\n",
        "        total_samples = 0\n",
        "\n",
        "        with torch.no_grad():\n",
        "            for batch_images, batch_labels in tqdm(val_dataloader, leave=False):\n",
        "                batch_image_pixels, batch_labels = batch_images.pixel_values.squeeze(1).to(device), batch_labels.to(device)\n",
        "                outputs = model(batch_image_pixels).logits\n",
        "                _, predicted = torch.max(outputs, 1)\n",
        "                accuracy += (predicted == batch_labels).sum().item()\n",
        "                total_samples += batch_labels.size(0)\n",
        "\n",
        "        validation_accuracy = accuracy / total_samples\n",
        "        print(f\"Validation Accuracy: {validation_accuracy:.4f}\")\n"
      ]
    },
    {
      "cell_type": "markdown",
      "metadata": {},
      "source": [
        "### Adjust classweights to account for class imbalance"
      ]
    },
    {
      "cell_type": "code",
      "execution_count": 22,
      "metadata": {},
      "outputs": [],
      "source": [
        "# Adjust Class weights here\n",
        "class_weight = torch.tensor([1, 8]).float().to(device)"
      ]
    },
    {
      "cell_type": "code",
      "execution_count": 23,
      "metadata": {},
      "outputs": [
        {
          "data": {
            "application/vnd.jupyter.widget-view+json": {
              "model_id": "9ac98fb67de54b15a0f3cf3bc224dc04",
              "version_major": 2,
              "version_minor": 0
            },
            "text/plain": [
              "  0%|          | 0/10869 [00:00<?, ?it/s]"
            ]
          },
          "metadata": {},
          "output_type": "display_data"
        },
        {
          "name": "stdout",
          "output_type": "stream",
          "text": [
            "Epoch 1/6, Loss: 0.5135\n"
          ]
        },
        {
          "data": {
            "application/vnd.jupyter.widget-view+json": {
              "model_id": "369f0015aed24a3ea40f9c8e185c3e2e",
              "version_major": 2,
              "version_minor": 0
            },
            "text/plain": [
              "  0%|          | 0/2174 [00:00<?, ?it/s]"
            ]
          },
          "metadata": {},
          "output_type": "display_data"
        },
        {
          "name": "stdout",
          "output_type": "stream",
          "text": [
            "Validation Accuracy: 0.9210\n"
          ]
        },
        {
          "data": {
            "application/vnd.jupyter.widget-view+json": {
              "model_id": "3f71c77123e544ea8cb508205e30efdd",
              "version_major": 2,
              "version_minor": 0
            },
            "text/plain": [
              "  0%|          | 0/10869 [00:00<?, ?it/s]"
            ]
          },
          "metadata": {},
          "output_type": "display_data"
        },
        {
          "name": "stdout",
          "output_type": "stream",
          "text": [
            "Epoch 2/6, Loss: 0.2012\n"
          ]
        },
        {
          "data": {
            "application/vnd.jupyter.widget-view+json": {
              "model_id": "28549bdce33a473ca3ee7c2a98042104",
              "version_major": 2,
              "version_minor": 0
            },
            "text/plain": [
              "  0%|          | 0/2174 [00:00<?, ?it/s]"
            ]
          },
          "metadata": {},
          "output_type": "display_data"
        },
        {
          "name": "stdout",
          "output_type": "stream",
          "text": [
            "Validation Accuracy: 0.9443\n"
          ]
        },
        {
          "data": {
            "application/vnd.jupyter.widget-view+json": {
              "model_id": "a79a5b0ed34744b9a396f1a7a19cb889",
              "version_major": 2,
              "version_minor": 0
            },
            "text/plain": [
              "  0%|          | 0/10869 [00:00<?, ?it/s]"
            ]
          },
          "metadata": {},
          "output_type": "display_data"
        },
        {
          "name": "stdout",
          "output_type": "stream",
          "text": [
            "Epoch 3/6, Loss: 0.1108\n"
          ]
        },
        {
          "data": {
            "application/vnd.jupyter.widget-view+json": {
              "model_id": "2a52f4a5fcfe487db8b82101ddcea994",
              "version_major": 2,
              "version_minor": 0
            },
            "text/plain": [
              "  0%|          | 0/2174 [00:00<?, ?it/s]"
            ]
          },
          "metadata": {},
          "output_type": "display_data"
        },
        {
          "name": "stdout",
          "output_type": "stream",
          "text": [
            "Validation Accuracy: 0.9442\n"
          ]
        },
        {
          "data": {
            "application/vnd.jupyter.widget-view+json": {
              "model_id": "a92de8ebd5be4429ab2c3d6c76bcd19c",
              "version_major": 2,
              "version_minor": 0
            },
            "text/plain": [
              "  0%|          | 0/10869 [00:00<?, ?it/s]"
            ]
          },
          "metadata": {},
          "output_type": "display_data"
        },
        {
          "name": "stdout",
          "output_type": "stream",
          "text": [
            "Epoch 4/6, Loss: 0.3122\n"
          ]
        },
        {
          "data": {
            "application/vnd.jupyter.widget-view+json": {
              "model_id": "c1587580fef0490e86942897bd76fd62",
              "version_major": 2,
              "version_minor": 0
            },
            "text/plain": [
              "  0%|          | 0/2174 [00:00<?, ?it/s]"
            ]
          },
          "metadata": {},
          "output_type": "display_data"
        },
        {
          "name": "stdout",
          "output_type": "stream",
          "text": [
            "Validation Accuracy: 0.9147\n"
          ]
        },
        {
          "data": {
            "application/vnd.jupyter.widget-view+json": {
              "model_id": "a75f54d4981a473482cd6fca6697467e",
              "version_major": 2,
              "version_minor": 0
            },
            "text/plain": [
              "  0%|          | 0/10869 [00:00<?, ?it/s]"
            ]
          },
          "metadata": {},
          "output_type": "display_data"
        },
        {
          "name": "stdout",
          "output_type": "stream",
          "text": [
            "Epoch 5/6, Loss: 0.0904\n"
          ]
        },
        {
          "data": {
            "application/vnd.jupyter.widget-view+json": {
              "model_id": "c816eb5dbe5144f9bf1e95d379c4819d",
              "version_major": 2,
              "version_minor": 0
            },
            "text/plain": [
              "  0%|          | 0/2174 [00:00<?, ?it/s]"
            ]
          },
          "metadata": {},
          "output_type": "display_data"
        },
        {
          "name": "stdout",
          "output_type": "stream",
          "text": [
            "Validation Accuracy: 0.9465\n"
          ]
        },
        {
          "data": {
            "application/vnd.jupyter.widget-view+json": {
              "model_id": "68d1a137757f44acbc451180361b0651",
              "version_major": 2,
              "version_minor": 0
            },
            "text/plain": [
              "  0%|          | 0/10869 [00:00<?, ?it/s]"
            ]
          },
          "metadata": {},
          "output_type": "display_data"
        },
        {
          "name": "stdout",
          "output_type": "stream",
          "text": [
            "Epoch 6/6, Loss: 0.1218\n"
          ]
        },
        {
          "data": {
            "application/vnd.jupyter.widget-view+json": {
              "model_id": "70923f58bc6549b884b6b0046dbeb15c",
              "version_major": 2,
              "version_minor": 0
            },
            "text/plain": [
              "  0%|          | 0/2174 [00:00<?, ?it/s]"
            ]
          },
          "metadata": {},
          "output_type": "display_data"
        },
        {
          "name": "stdout",
          "output_type": "stream",
          "text": [
            "Validation Accuracy: 0.9504\n"
          ]
        }
      ],
      "source": [
        "train(model, class_weight, 6)"
      ]
    },
    {
      "cell_type": "code",
      "execution_count": 24,
      "metadata": {},
      "outputs": [],
      "source": [
        "# Specify the file path for saving the model\n",
        "model_path = 'vit_model_dropout_weighted.pth'\n",
        "\n",
        "# Save the model's state_dict to the specified file\n",
        "torch.save(model.state_dict(), model_path)"
      ]
    },
    {
      "cell_type": "code",
      "execution_count": 25,
      "metadata": {},
      "outputs": [
        {
          "data": {
            "text/plain": [
              "<All keys matched successfully>"
            ]
          },
          "execution_count": 25,
          "metadata": {},
          "output_type": "execute_result"
        }
      ],
      "source": [
        "model_path = 'vit_model_dropout_weighted.pth'\n",
        "model.load_state_dict(torch.load(model_path))"
      ]
    },
    {
      "cell_type": "markdown",
      "metadata": {
        "id": "jddooPmpVX7t"
      },
      "source": [
        "# Step 4: Evaluate the model on the Test Dataset\n",
        "\n",
        "### Generate evaluation metrics and plots such as confusion matrix and ROC curves, F1 score, etc."
      ]
    },
    {
      "cell_type": "markdown",
      "metadata": {
        "id": "_v4ikO-tVX7t"
      },
      "source": [
        "We are primarily concerned with high false positive rate due to the extreme class imbalance"
      ]
    },
    {
      "cell_type": "code",
      "execution_count": 26,
      "metadata": {},
      "outputs": [],
      "source": [
        "def predict(model):\n",
        "    model.eval()\n",
        "    accuracy = 0\n",
        "    total_samples = 0\n",
        "    predictions = []  # List to store the predictions\n",
        "    truth_labels = []  # List to store the truth labels\n",
        "\n",
        "    with torch.no_grad():\n",
        "        for batch_images, batch_labels in tqdm(test_dataloader, leave=False):\n",
        "            batch_image_pixels, batch_labels = batch_images.pixel_values.squeeze(1).to(device), batch_labels.to(device)\n",
        "            outputs = model(batch_image_pixels).logits\n",
        "            _, predicted = torch.max(outputs, 1)\n",
        "            accuracy += (predicted == batch_labels).sum().item()\n",
        "            total_samples += batch_labels.size(0)\n",
        "\n",
        "            predictions.extend(predicted.cpu().numpy())\n",
        "            truth_labels.extend(batch_labels.cpu().numpy())\n",
        "\n",
        "    validation_accuracy = accuracy / total_samples\n",
        "    print(f\"Test Accuracy: {validation_accuracy:.4f}\")\n",
        "    return predictions, truth_labels"
      ]
    },
    {
      "cell_type": "code",
      "execution_count": 27,
      "metadata": {},
      "outputs": [
        {
          "data": {
            "application/vnd.jupyter.widget-view+json": {
              "model_id": "328efae44ea94d6598b5f2f49a03fe51",
              "version_major": 2,
              "version_minor": 0
            },
            "text/plain": [
              "  0%|          | 0/7402 [00:00<?, ?it/s]"
            ]
          },
          "metadata": {},
          "output_type": "display_data"
        },
        {
          "name": "stdout",
          "output_type": "stream",
          "text": [
            "Test Accuracy: 0.8605\n"
          ]
        }
      ],
      "source": [
        "predictions, truth_labels = predict(model)\n",
        "predictions, truth_labels = np.array(predictions), np.array(truth_labels)"
      ]
    },
    {
      "cell_type": "code",
      "execution_count": 28,
      "metadata": {},
      "outputs": [
        {
          "data": {
            "image/png": "[encoded data removed]",
            "text/plain": [
              "<Figure size 750x750 with 1 Axes>"
            ]
          },
          "metadata": {},
          "output_type": "display_data"
        }
      ],
      "source": [
        "from sklearn.metrics import confusion_matrix\n",
        "from sklearn.metrics import ConfusionMatrixDisplay\n",
        "\n",
        "#source: https://vitalflux.com/python-draw-confusion-matrix-matplotlib/\n",
        "\n",
        "conf_matrix = confusion_matrix(y_true=truth_labels.astype(int), y_pred=predictions)\n",
        "fig, ax = plt.subplots(figsize=(7.5, 7.5))\n",
        "ax.matshow(conf_matrix, cmap=plt.cm.Blues, alpha=0.3)\n",
        "for i in range(conf_matrix.shape[0]):\n",
        "    for j in range(conf_matrix.shape[1]):\n",
        "        ax.text(x=j, y=i,s=conf_matrix[i, j], va='center', ha='center', size='xx-large')\n",
        " \n",
        "plt.xlabel('Predictions', fontsize=18)\n",
        "plt.ylabel('Actuals', fontsize=18)\n",
        "plt.title(f'Confusion Matrix (0: Leak, 1:Nonleak)', fontsize=18)\n",
        "plt.show()"
      ]
    },
    {
      "cell_type": "code",
      "execution_count": 29,
      "metadata": {},
      "outputs": [],
      "source": [
        "from sklearn.metrics import accuracy_score,f1_score\n",
        "accuracy = accuracy_score(truth_labels, predictions)"
      ]
    },
    {
      "cell_type": "code",
      "execution_count": 30,
      "metadata": {},
      "outputs": [
        {
          "data": {
            "text/plain": [
              "0.8605211825405538"
            ]
          },
          "execution_count": 30,
          "metadata": {},
          "output_type": "execute_result"
        }
      ],
      "source": [
        "accuracy"
      ]
    },
    {
      "cell_type": "code",
      "execution_count": 31,
      "metadata": {},
      "outputs": [
        {
          "data": {
            "text/plain": [
              "0.6260005207802648"
            ]
          },
          "execution_count": 31,
          "metadata": {},
          "output_type": "execute_result"
        }
      ],
      "source": [
        "f1 = f1_score(truth_labels, predictions)\n",
        "f1"
      ]
    },
    {
      "cell_type": "code",
      "execution_count": 32,
      "metadata": {},
      "outputs": [],
      "source": [
        "conf_matrix = confusion_matrix(truth_labels, predictions)\n",
        "per_class_accuracy = conf_matrix.diagonal() / conf_matrix.sum(axis=1)"
      ]
    },
    {
      "cell_type": "code",
      "execution_count": 33,
      "metadata": {},
      "outputs": [
        {
          "name": "stdout",
          "output_type": "stream",
          "text": [
            "Class 'Leak' Accuracy: 0.8451\n",
            "Class 'Nonleak' Accuracy: 0.9735\n"
          ]
        }
      ],
      "source": [
        "for label, acc in zip(['Leak', 'Nonleak'], per_class_accuracy)\n",
        "    print(f\"Class '{label}' Accuracy: {acc:.4f}\")"
      ]
    },
    {
      "cell_type": "markdown",
      "metadata": {
        "id": "OCvUK3ryVX7t"
      },
      "source": []
    },
    {
      "cell_type": "markdown",
      "metadata": {},
      "source": []
    }
  ],
  "metadata": {
    "colab": {
      "provenance": []
    },
    "kernelspec": {
      "display_name": "methane_env",
      "language": "python",
      "name": "python3"
    },
    "language_info": {
      "codemirror_mode": {
        "name": "ipython",
        "version": 3
      },
      "file_extension": ".py",
      "mimetype": "text/x-python",
      "name": "python",
      "nbconvert_exporter": "python",
      "pygments_lexer": "ipython3",
      "version": "3.10.12"
    },
    "orig_nbformat": 4,
    "vscode": {
      "interpreter": {
        "hash": "92148a12c102ce31dad7b6dc4c1f8747c19091aa07dd8a934fcd2c33582f9a61"
      }
    }
  },
  "nbformat": 4,
  "nbformat_minor": 0
}
